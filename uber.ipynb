{
 "cells": [
  {
   "cell_type": "code",
   "execution_count": 1,
   "id": "ec167f93",
   "metadata": {},
   "outputs": [],
   "source": [
    "import pandas as pd\n",
    "pd.set_option('display.max_columns', 500)\n",
    "import warnings\n",
    "warnings.filterwarnings('ignore')\n",
    "import plotly.express as px\n",
    "import numpy as np\n",
    "import seaborn as sns\n",
    "import pandas as pd\n",
    "import matplotlib.pyplot as plt\n",
    "from geopy.distance import great_circle\n",
    "from datasist.structdata import detect_outliers\n",
    "from sklearn.preprocessing import LabelEncoder\n",
    "from sklearn.preprocessing import StandardScaler\n",
    "from sklearn.model_selection import train_test_split\n",
    "from sklearn.linear_model import LinearRegression \n",
    "from sklearn.neighbors import KNeighborsRegressor\n",
    "from sklearn.tree import DecisionTreeRegressor\n",
    "from sklearn.svm import SVR\n",
    "from sklearn.ensemble import RandomForestRegressor\n",
    "from xgboost import XGBRegressor\n",
    "from sklearn.metrics import mean_squared_error, mean_absolute_error, r2_score\n",
    "from sklearn.model_selection import GridSearchCV, RandomizedSearchCV"
   ]
  },
  {
   "cell_type": "code",
   "execution_count": 2,
   "id": "cfd7a7cc",
   "metadata": {
    "scrolled": false
   },
   "outputs": [
    {
     "data": {
      "text/html": [
       "<div>\n",
       "<style scoped>\n",
       "    .dataframe tbody tr th:only-of-type {\n",
       "        vertical-align: middle;\n",
       "    }\n",
       "\n",
       "    .dataframe tbody tr th {\n",
       "        vertical-align: top;\n",
       "    }\n",
       "\n",
       "    .dataframe thead th {\n",
       "        text-align: right;\n",
       "    }\n",
       "</style>\n",
       "<table border=\"1\" class=\"dataframe\">\n",
       "  <thead>\n",
       "    <tr style=\"text-align: right;\">\n",
       "      <th></th>\n",
       "      <th>Unnamed: 0</th>\n",
       "      <th>key</th>\n",
       "      <th>fare_amount</th>\n",
       "      <th>pickup_datetime</th>\n",
       "      <th>pickup_longitude</th>\n",
       "      <th>pickup_latitude</th>\n",
       "      <th>dropoff_longitude</th>\n",
       "      <th>dropoff_latitude</th>\n",
       "      <th>passenger_count</th>\n",
       "    </tr>\n",
       "  </thead>\n",
       "  <tbody>\n",
       "    <tr>\n",
       "      <th>0</th>\n",
       "      <td>24238194</td>\n",
       "      <td>2015-05-07 19:52:06.0000003</td>\n",
       "      <td>7.5</td>\n",
       "      <td>2015-05-07 19:52:06 UTC</td>\n",
       "      <td>-73.999817</td>\n",
       "      <td>40.738354</td>\n",
       "      <td>-73.999512</td>\n",
       "      <td>40.723217</td>\n",
       "      <td>1</td>\n",
       "    </tr>\n",
       "    <tr>\n",
       "      <th>1</th>\n",
       "      <td>27835199</td>\n",
       "      <td>2009-07-17 20:04:56.0000002</td>\n",
       "      <td>7.7</td>\n",
       "      <td>2009-07-17 20:04:56 UTC</td>\n",
       "      <td>-73.994355</td>\n",
       "      <td>40.728225</td>\n",
       "      <td>-73.994710</td>\n",
       "      <td>40.750325</td>\n",
       "      <td>1</td>\n",
       "    </tr>\n",
       "    <tr>\n",
       "      <th>2</th>\n",
       "      <td>44984355</td>\n",
       "      <td>2009-08-24 21:45:00.00000061</td>\n",
       "      <td>12.9</td>\n",
       "      <td>2009-08-24 21:45:00 UTC</td>\n",
       "      <td>-74.005043</td>\n",
       "      <td>40.740770</td>\n",
       "      <td>-73.962565</td>\n",
       "      <td>40.772647</td>\n",
       "      <td>1</td>\n",
       "    </tr>\n",
       "    <tr>\n",
       "      <th>3</th>\n",
       "      <td>25894730</td>\n",
       "      <td>2009-06-26 08:22:21.0000001</td>\n",
       "      <td>5.3</td>\n",
       "      <td>2009-06-26 08:22:21 UTC</td>\n",
       "      <td>-73.976124</td>\n",
       "      <td>40.790844</td>\n",
       "      <td>-73.965316</td>\n",
       "      <td>40.803349</td>\n",
       "      <td>3</td>\n",
       "    </tr>\n",
       "    <tr>\n",
       "      <th>4</th>\n",
       "      <td>17610152</td>\n",
       "      <td>2014-08-28 17:47:00.000000188</td>\n",
       "      <td>16.0</td>\n",
       "      <td>2014-08-28 17:47:00 UTC</td>\n",
       "      <td>-73.925023</td>\n",
       "      <td>40.744085</td>\n",
       "      <td>-73.973082</td>\n",
       "      <td>40.761247</td>\n",
       "      <td>5</td>\n",
       "    </tr>\n",
       "  </tbody>\n",
       "</table>\n",
       "</div>"
      ],
      "text/plain": [
       "   Unnamed: 0                            key  fare_amount  \\\n",
       "0    24238194    2015-05-07 19:52:06.0000003          7.5   \n",
       "1    27835199    2009-07-17 20:04:56.0000002          7.7   \n",
       "2    44984355   2009-08-24 21:45:00.00000061         12.9   \n",
       "3    25894730    2009-06-26 08:22:21.0000001          5.3   \n",
       "4    17610152  2014-08-28 17:47:00.000000188         16.0   \n",
       "\n",
       "           pickup_datetime  pickup_longitude  pickup_latitude  \\\n",
       "0  2015-05-07 19:52:06 UTC        -73.999817        40.738354   \n",
       "1  2009-07-17 20:04:56 UTC        -73.994355        40.728225   \n",
       "2  2009-08-24 21:45:00 UTC        -74.005043        40.740770   \n",
       "3  2009-06-26 08:22:21 UTC        -73.976124        40.790844   \n",
       "4  2014-08-28 17:47:00 UTC        -73.925023        40.744085   \n",
       "\n",
       "   dropoff_longitude  dropoff_latitude  passenger_count  \n",
       "0         -73.999512         40.723217                1  \n",
       "1         -73.994710         40.750325                1  \n",
       "2         -73.962565         40.772647                1  \n",
       "3         -73.965316         40.803349                3  \n",
       "4         -73.973082         40.761247                5  "
      ]
     },
     "execution_count": 2,
     "metadata": {},
     "output_type": "execute_result"
    }
   ],
   "source": [
    "df = pd.read_csv(\"uber.csv\")\n",
    "df.head()"
   ]
  },
  {
   "cell_type": "code",
   "execution_count": 3,
   "id": "87417d4d",
   "metadata": {},
   "outputs": [
    {
     "data": {
      "text/plain": [
       "(200000, 9)"
      ]
     },
     "execution_count": 3,
     "metadata": {},
     "output_type": "execute_result"
    }
   ],
   "source": [
    "df.shape"
   ]
  },
  {
   "cell_type": "code",
   "execution_count": 4,
   "id": "176ae65e",
   "metadata": {
    "scrolled": false
   },
   "outputs": [
    {
     "name": "stdout",
     "output_type": "stream",
     "text": [
      "<class 'pandas.core.frame.DataFrame'>\n",
      "RangeIndex: 200000 entries, 0 to 199999\n",
      "Data columns (total 9 columns):\n",
      " #   Column             Non-Null Count   Dtype  \n",
      "---  ------             --------------   -----  \n",
      " 0   Unnamed: 0         200000 non-null  int64  \n",
      " 1   key                200000 non-null  object \n",
      " 2   fare_amount        200000 non-null  float64\n",
      " 3   pickup_datetime    200000 non-null  object \n",
      " 4   pickup_longitude   200000 non-null  float64\n",
      " 5   pickup_latitude    200000 non-null  float64\n",
      " 6   dropoff_longitude  199999 non-null  float64\n",
      " 7   dropoff_latitude   199999 non-null  float64\n",
      " 8   passenger_count    200000 non-null  int64  \n",
      "dtypes: float64(5), int64(2), object(2)\n",
      "memory usage: 13.7+ MB\n"
     ]
    }
   ],
   "source": [
    "df.info()"
   ]
  },
  {
   "cell_type": "code",
   "execution_count": 5,
   "id": "eaa0a02c",
   "metadata": {},
   "outputs": [],
   "source": [
    "df.drop(['Unnamed: 0','key'],axis=1,inplace=True)"
   ]
  },
  {
   "cell_type": "code",
   "execution_count": 6,
   "id": "478eeb3a",
   "metadata": {
    "scrolled": true
   },
   "outputs": [
    {
     "data": {
      "text/html": [
       "<div>\n",
       "<style scoped>\n",
       "    .dataframe tbody tr th:only-of-type {\n",
       "        vertical-align: middle;\n",
       "    }\n",
       "\n",
       "    .dataframe tbody tr th {\n",
       "        vertical-align: top;\n",
       "    }\n",
       "\n",
       "    .dataframe thead th {\n",
       "        text-align: right;\n",
       "    }\n",
       "</style>\n",
       "<table border=\"1\" class=\"dataframe\">\n",
       "  <thead>\n",
       "    <tr style=\"text-align: right;\">\n",
       "      <th></th>\n",
       "      <th>fare_amount</th>\n",
       "      <th>passenger_count</th>\n",
       "    </tr>\n",
       "  </thead>\n",
       "  <tbody>\n",
       "    <tr>\n",
       "      <th>count</th>\n",
       "      <td>200000.000000</td>\n",
       "      <td>200000.000000</td>\n",
       "    </tr>\n",
       "    <tr>\n",
       "      <th>mean</th>\n",
       "      <td>11.359955</td>\n",
       "      <td>1.684535</td>\n",
       "    </tr>\n",
       "    <tr>\n",
       "      <th>std</th>\n",
       "      <td>9.901776</td>\n",
       "      <td>1.385997</td>\n",
       "    </tr>\n",
       "    <tr>\n",
       "      <th>min</th>\n",
       "      <td>-52.000000</td>\n",
       "      <td>0.000000</td>\n",
       "    </tr>\n",
       "    <tr>\n",
       "      <th>25%</th>\n",
       "      <td>6.000000</td>\n",
       "      <td>1.000000</td>\n",
       "    </tr>\n",
       "    <tr>\n",
       "      <th>50%</th>\n",
       "      <td>8.500000</td>\n",
       "      <td>1.000000</td>\n",
       "    </tr>\n",
       "    <tr>\n",
       "      <th>75%</th>\n",
       "      <td>12.500000</td>\n",
       "      <td>2.000000</td>\n",
       "    </tr>\n",
       "    <tr>\n",
       "      <th>max</th>\n",
       "      <td>499.000000</td>\n",
       "      <td>208.000000</td>\n",
       "    </tr>\n",
       "  </tbody>\n",
       "</table>\n",
       "</div>"
      ],
      "text/plain": [
       "         fare_amount  passenger_count\n",
       "count  200000.000000    200000.000000\n",
       "mean       11.359955         1.684535\n",
       "std         9.901776         1.385997\n",
       "min       -52.000000         0.000000\n",
       "25%         6.000000         1.000000\n",
       "50%         8.500000         1.000000\n",
       "75%        12.500000         2.000000\n",
       "max       499.000000       208.000000"
      ]
     },
     "execution_count": 6,
     "metadata": {},
     "output_type": "execute_result"
    }
   ],
   "source": [
    "df.describe()[['fare_amount','passenger_count']]"
   ]
  },
  {
   "cell_type": "code",
   "execution_count": 7,
   "id": "02649665",
   "metadata": {
    "scrolled": true
   },
   "outputs": [
    {
     "data": {
      "text/plain": [
       "(17, 7)"
      ]
     },
     "execution_count": 7,
     "metadata": {},
     "output_type": "execute_result"
    }
   ],
   "source": [
    "df[df['fare_amount'] < 0].shape"
   ]
  },
  {
   "cell_type": "code",
   "execution_count": 8,
   "id": "87d16e6b",
   "metadata": {},
   "outputs": [
    {
     "data": {
      "text/plain": [
       "(17, 17)"
      ]
     },
     "execution_count": 8,
     "metadata": {},
     "output_type": "execute_result"
    }
   ],
   "source": [
    "Wrongindices = []\n",
    "\n",
    "Wrongindices = list(df[df['fare_amount']<0].index)\n",
    "len(Wrongindices), len(set(Wrongindices))"
   ]
  },
  {
   "cell_type": "code",
   "execution_count": 9,
   "id": "9271af2b",
   "metadata": {},
   "outputs": [
    {
     "data": {
      "text/plain": [
       "(199983, 7)"
      ]
     },
     "execution_count": 9,
     "metadata": {},
     "output_type": "execute_result"
    }
   ],
   "source": [
    "df.drop(Wrongindices,axis=0,inplace=True)\n",
    "df.reset_index(inplace=True)\n",
    "df.drop(['index'],axis = 1,inplace=True)\n",
    "df.shape"
   ]
  },
  {
   "cell_type": "code",
   "execution_count": 10,
   "id": "d0957249",
   "metadata": {},
   "outputs": [
    {
     "data": {
      "text/html": [
       "<div>\n",
       "<style scoped>\n",
       "    .dataframe tbody tr th:only-of-type {\n",
       "        vertical-align: middle;\n",
       "    }\n",
       "\n",
       "    .dataframe tbody tr th {\n",
       "        vertical-align: top;\n",
       "    }\n",
       "\n",
       "    .dataframe thead th {\n",
       "        text-align: right;\n",
       "    }\n",
       "</style>\n",
       "<table border=\"1\" class=\"dataframe\">\n",
       "  <thead>\n",
       "    <tr style=\"text-align: right;\">\n",
       "      <th></th>\n",
       "      <th>fare_amount</th>\n",
       "      <th>passenger_count</th>\n",
       "    </tr>\n",
       "  </thead>\n",
       "  <tbody>\n",
       "    <tr>\n",
       "      <th>count</th>\n",
       "      <td>199983.000000</td>\n",
       "      <td>199983.000000</td>\n",
       "    </tr>\n",
       "    <tr>\n",
       "      <th>mean</th>\n",
       "      <td>11.362365</td>\n",
       "      <td>1.684493</td>\n",
       "    </tr>\n",
       "    <tr>\n",
       "      <th>std</th>\n",
       "      <td>9.897119</td>\n",
       "      <td>1.385979</td>\n",
       "    </tr>\n",
       "    <tr>\n",
       "      <th>min</th>\n",
       "      <td>0.000000</td>\n",
       "      <td>0.000000</td>\n",
       "    </tr>\n",
       "    <tr>\n",
       "      <th>25%</th>\n",
       "      <td>6.000000</td>\n",
       "      <td>1.000000</td>\n",
       "    </tr>\n",
       "    <tr>\n",
       "      <th>50%</th>\n",
       "      <td>8.500000</td>\n",
       "      <td>1.000000</td>\n",
       "    </tr>\n",
       "    <tr>\n",
       "      <th>75%</th>\n",
       "      <td>12.500000</td>\n",
       "      <td>2.000000</td>\n",
       "    </tr>\n",
       "    <tr>\n",
       "      <th>max</th>\n",
       "      <td>499.000000</td>\n",
       "      <td>208.000000</td>\n",
       "    </tr>\n",
       "  </tbody>\n",
       "</table>\n",
       "</div>"
      ],
      "text/plain": [
       "         fare_amount  passenger_count\n",
       "count  199983.000000    199983.000000\n",
       "mean       11.362365         1.684493\n",
       "std         9.897119         1.385979\n",
       "min         0.000000         0.000000\n",
       "25%         6.000000         1.000000\n",
       "50%         8.500000         1.000000\n",
       "75%        12.500000         2.000000\n",
       "max       499.000000       208.000000"
      ]
     },
     "execution_count": 10,
     "metadata": {},
     "output_type": "execute_result"
    }
   ],
   "source": [
    "df.describe()[['fare_amount','passenger_count']]"
   ]
  },
  {
   "cell_type": "code",
   "execution_count": 11,
   "id": "bb9dc39d",
   "metadata": {
    "scrolled": true
   },
   "outputs": [
    {
     "data": {
      "text/html": [
       "<div>\n",
       "<style scoped>\n",
       "    .dataframe tbody tr th:only-of-type {\n",
       "        vertical-align: middle;\n",
       "    }\n",
       "\n",
       "    .dataframe tbody tr th {\n",
       "        vertical-align: top;\n",
       "    }\n",
       "\n",
       "    .dataframe thead th {\n",
       "        text-align: right;\n",
       "    }\n",
       "</style>\n",
       "<table border=\"1\" class=\"dataframe\">\n",
       "  <thead>\n",
       "    <tr style=\"text-align: right;\">\n",
       "      <th></th>\n",
       "      <th>fare_amount</th>\n",
       "      <th>pickup_datetime</th>\n",
       "      <th>pickup_longitude</th>\n",
       "      <th>pickup_latitude</th>\n",
       "      <th>dropoff_longitude</th>\n",
       "      <th>dropoff_latitude</th>\n",
       "      <th>passenger_count</th>\n",
       "    </tr>\n",
       "  </thead>\n",
       "  <tbody>\n",
       "    <tr>\n",
       "      <th>113030</th>\n",
       "      <td>11.7</td>\n",
       "      <td>2010-12-28 08:20:00 UTC</td>\n",
       "      <td>-73.937795</td>\n",
       "      <td>40.758498</td>\n",
       "      <td>-73.937835</td>\n",
       "      <td>40.758415</td>\n",
       "      <td>208</td>\n",
       "    </tr>\n",
       "  </tbody>\n",
       "</table>\n",
       "</div>"
      ],
      "text/plain": [
       "        fare_amount          pickup_datetime  pickup_longitude  \\\n",
       "113030         11.7  2010-12-28 08:20:00 UTC        -73.937795   \n",
       "\n",
       "        pickup_latitude  dropoff_longitude  dropoff_latitude  passenger_count  \n",
       "113030        40.758498         -73.937835         40.758415              208  "
      ]
     },
     "execution_count": 11,
     "metadata": {},
     "output_type": "execute_result"
    }
   ],
   "source": [
    "df[df['passenger_count']>6]"
   ]
  },
  {
   "cell_type": "code",
   "execution_count": 12,
   "id": "0613c216",
   "metadata": {},
   "outputs": [],
   "source": [
    "df.drop(113030, axis=0, inplace=True)"
   ]
  },
  {
   "cell_type": "code",
   "execution_count": 13,
   "id": "b46dda94",
   "metadata": {
    "scrolled": true
   },
   "outputs": [
    {
     "data": {
      "text/html": [
       "<div>\n",
       "<style scoped>\n",
       "    .dataframe tbody tr th:only-of-type {\n",
       "        vertical-align: middle;\n",
       "    }\n",
       "\n",
       "    .dataframe tbody tr th {\n",
       "        vertical-align: top;\n",
       "    }\n",
       "\n",
       "    .dataframe thead th {\n",
       "        text-align: right;\n",
       "    }\n",
       "</style>\n",
       "<table border=\"1\" class=\"dataframe\">\n",
       "  <thead>\n",
       "    <tr style=\"text-align: right;\">\n",
       "      <th></th>\n",
       "      <th>fare_amount</th>\n",
       "      <th>passenger_count</th>\n",
       "    </tr>\n",
       "  </thead>\n",
       "  <tbody>\n",
       "    <tr>\n",
       "      <th>count</th>\n",
       "      <td>199982.000000</td>\n",
       "      <td>199982.000000</td>\n",
       "    </tr>\n",
       "    <tr>\n",
       "      <th>mean</th>\n",
       "      <td>11.362364</td>\n",
       "      <td>1.683462</td>\n",
       "    </tr>\n",
       "    <tr>\n",
       "      <th>std</th>\n",
       "      <td>9.897143</td>\n",
       "      <td>1.306941</td>\n",
       "    </tr>\n",
       "    <tr>\n",
       "      <th>min</th>\n",
       "      <td>0.000000</td>\n",
       "      <td>0.000000</td>\n",
       "    </tr>\n",
       "    <tr>\n",
       "      <th>25%</th>\n",
       "      <td>6.000000</td>\n",
       "      <td>1.000000</td>\n",
       "    </tr>\n",
       "    <tr>\n",
       "      <th>50%</th>\n",
       "      <td>8.500000</td>\n",
       "      <td>1.000000</td>\n",
       "    </tr>\n",
       "    <tr>\n",
       "      <th>75%</th>\n",
       "      <td>12.500000</td>\n",
       "      <td>2.000000</td>\n",
       "    </tr>\n",
       "    <tr>\n",
       "      <th>max</th>\n",
       "      <td>499.000000</td>\n",
       "      <td>6.000000</td>\n",
       "    </tr>\n",
       "  </tbody>\n",
       "</table>\n",
       "</div>"
      ],
      "text/plain": [
       "         fare_amount  passenger_count\n",
       "count  199982.000000    199982.000000\n",
       "mean       11.362364         1.683462\n",
       "std         9.897143         1.306941\n",
       "min         0.000000         0.000000\n",
       "25%         6.000000         1.000000\n",
       "50%         8.500000         1.000000\n",
       "75%        12.500000         2.000000\n",
       "max       499.000000         6.000000"
      ]
     },
     "execution_count": 13,
     "metadata": {},
     "output_type": "execute_result"
    }
   ],
   "source": [
    "df.describe()[['fare_amount','passenger_count']]"
   ]
  },
  {
   "cell_type": "code",
   "execution_count": 14,
   "id": "33f1a0c3",
   "metadata": {},
   "outputs": [
    {
     "data": {
      "text/plain": [
       "Index(['fare_amount', 'pickup_datetime', 'pickup_longitude', 'pickup_latitude',\n",
       "       'dropoff_longitude', 'dropoff_latitude', 'passenger_count'],\n",
       "      dtype='object')"
      ]
     },
     "execution_count": 14,
     "metadata": {},
     "output_type": "execute_result"
    }
   ],
   "source": [
    "df.columns"
   ]
  },
  {
   "cell_type": "code",
   "execution_count": 15,
   "id": "832857f1",
   "metadata": {
    "scrolled": true
   },
   "outputs": [
    {
     "data": {
      "text/html": [
       "<div>\n",
       "<style scoped>\n",
       "    .dataframe tbody tr th:only-of-type {\n",
       "        vertical-align: middle;\n",
       "    }\n",
       "\n",
       "    .dataframe tbody tr th {\n",
       "        vertical-align: top;\n",
       "    }\n",
       "\n",
       "    .dataframe thead th {\n",
       "        text-align: right;\n",
       "    }\n",
       "</style>\n",
       "<table border=\"1\" class=\"dataframe\">\n",
       "  <thead>\n",
       "    <tr style=\"text-align: right;\">\n",
       "      <th></th>\n",
       "      <th>pickup_datetime</th>\n",
       "    </tr>\n",
       "  </thead>\n",
       "  <tbody>\n",
       "    <tr>\n",
       "      <th>0</th>\n",
       "      <td>2015-05-07 19:52:06 UTC</td>\n",
       "    </tr>\n",
       "    <tr>\n",
       "      <th>1</th>\n",
       "      <td>2009-07-17 20:04:56 UTC</td>\n",
       "    </tr>\n",
       "    <tr>\n",
       "      <th>2</th>\n",
       "      <td>2009-08-24 21:45:00 UTC</td>\n",
       "    </tr>\n",
       "    <tr>\n",
       "      <th>3</th>\n",
       "      <td>2009-06-26 08:22:21 UTC</td>\n",
       "    </tr>\n",
       "    <tr>\n",
       "      <th>4</th>\n",
       "      <td>2014-08-28 17:47:00 UTC</td>\n",
       "    </tr>\n",
       "    <tr>\n",
       "      <th>...</th>\n",
       "      <td>...</td>\n",
       "    </tr>\n",
       "    <tr>\n",
       "      <th>199978</th>\n",
       "      <td>2012-10-28 10:49:00 UTC</td>\n",
       "    </tr>\n",
       "    <tr>\n",
       "      <th>199979</th>\n",
       "      <td>2014-03-14 01:09:00 UTC</td>\n",
       "    </tr>\n",
       "    <tr>\n",
       "      <th>199980</th>\n",
       "      <td>2009-06-29 00:42:00 UTC</td>\n",
       "    </tr>\n",
       "    <tr>\n",
       "      <th>199981</th>\n",
       "      <td>2015-05-20 14:56:25 UTC</td>\n",
       "    </tr>\n",
       "    <tr>\n",
       "      <th>199982</th>\n",
       "      <td>2010-05-15 04:08:00 UTC</td>\n",
       "    </tr>\n",
       "  </tbody>\n",
       "</table>\n",
       "<p>199982 rows × 1 columns</p>\n",
       "</div>"
      ],
      "text/plain": [
       "                pickup_datetime\n",
       "0       2015-05-07 19:52:06 UTC\n",
       "1       2009-07-17 20:04:56 UTC\n",
       "2       2009-08-24 21:45:00 UTC\n",
       "3       2009-06-26 08:22:21 UTC\n",
       "4       2014-08-28 17:47:00 UTC\n",
       "...                         ...\n",
       "199978  2012-10-28 10:49:00 UTC\n",
       "199979  2014-03-14 01:09:00 UTC\n",
       "199980  2009-06-29 00:42:00 UTC\n",
       "199981  2015-05-20 14:56:25 UTC\n",
       "199982  2010-05-15 04:08:00 UTC\n",
       "\n",
       "[199982 rows x 1 columns]"
      ]
     },
     "execution_count": 15,
     "metadata": {},
     "output_type": "execute_result"
    }
   ],
   "source": [
    "df[['pickup_datetime']]"
   ]
  },
  {
   "cell_type": "code",
   "execution_count": 16,
   "id": "4f1631f6",
   "metadata": {
    "scrolled": true
   },
   "outputs": [
    {
     "data": {
      "text/plain": [
       "array(['2015-05-07 19:52:06 UTC', '2009-07-17 20:04:56 UTC',\n",
       "       '2009-08-24 21:45:00 UTC', ..., '2009-06-29 00:42:00 UTC',\n",
       "       '2015-05-20 14:56:25 UTC', '2010-05-15 04:08:00 UTC'], dtype=object)"
      ]
     },
     "execution_count": 16,
     "metadata": {},
     "output_type": "execute_result"
    }
   ],
   "source": [
    "df['pickup_datetime'].unique()"
   ]
  },
  {
   "cell_type": "code",
   "execution_count": 17,
   "id": "1a305084",
   "metadata": {},
   "outputs": [],
   "source": [
    "def extract_utc(x):\n",
    "    return x.split('UTC')[0]"
   ]
  },
  {
   "cell_type": "code",
   "execution_count": 18,
   "id": "e65ca875",
   "metadata": {},
   "outputs": [],
   "source": [
    "df['pickup_datetime'] = df['pickup_datetime'].apply(extract_utc)"
   ]
  },
  {
   "cell_type": "code",
   "execution_count": 19,
   "id": "c0a956ae",
   "metadata": {},
   "outputs": [],
   "source": [
    "df['pickup_datetime'] = pd.to_datetime(df['pickup_datetime'], format='%Y-%m-%d %H:%M:%S ', errors='coerce')"
   ]
  },
  {
   "cell_type": "code",
   "execution_count": 20,
   "id": "6df6bcf1",
   "metadata": {},
   "outputs": [],
   "source": [
    "df['Year'] = df['pickup_datetime'].dt.year\n",
    "df['Month'] = df['pickup_datetime'].dt.month\n",
    "df['Month_Name'] = df['pickup_datetime'].dt.month_name()\n",
    "df['Week'] = df['pickup_datetime'].dt.week\n",
    "df['Day'] = df['pickup_datetime'].dt.day\n",
    "df['Week_Day'] = df['pickup_datetime'].dt.weekday\n",
    "df['Day_Name'] = df['pickup_datetime'].dt.day_name()\n",
    "df['Hour'] = df['pickup_datetime'].dt.hour\n",
    "df['Minute'] = df['pickup_datetime'].dt.minute"
   ]
  },
  {
   "cell_type": "code",
   "execution_count": 21,
   "id": "8ce0d549",
   "metadata": {},
   "outputs": [
    {
     "data": {
      "text/html": [
       "<div>\n",
       "<style scoped>\n",
       "    .dataframe tbody tr th:only-of-type {\n",
       "        vertical-align: middle;\n",
       "    }\n",
       "\n",
       "    .dataframe tbody tr th {\n",
       "        vertical-align: top;\n",
       "    }\n",
       "\n",
       "    .dataframe thead th {\n",
       "        text-align: right;\n",
       "    }\n",
       "</style>\n",
       "<table border=\"1\" class=\"dataframe\">\n",
       "  <thead>\n",
       "    <tr style=\"text-align: right;\">\n",
       "      <th></th>\n",
       "      <th>fare_amount</th>\n",
       "      <th>pickup_datetime</th>\n",
       "      <th>pickup_longitude</th>\n",
       "      <th>pickup_latitude</th>\n",
       "      <th>dropoff_longitude</th>\n",
       "      <th>dropoff_latitude</th>\n",
       "      <th>passenger_count</th>\n",
       "      <th>Year</th>\n",
       "      <th>Month</th>\n",
       "      <th>Month_Name</th>\n",
       "      <th>Week</th>\n",
       "      <th>Day</th>\n",
       "      <th>Week_Day</th>\n",
       "      <th>Day_Name</th>\n",
       "      <th>Hour</th>\n",
       "      <th>Minute</th>\n",
       "      <th>Season</th>\n",
       "      <th>Period</th>\n",
       "    </tr>\n",
       "  </thead>\n",
       "  <tbody>\n",
       "    <tr>\n",
       "      <th>0</th>\n",
       "      <td>7.5</td>\n",
       "      <td>2015-05-07 19:52:06</td>\n",
       "      <td>-73.999817</td>\n",
       "      <td>40.738354</td>\n",
       "      <td>-73.999512</td>\n",
       "      <td>40.723217</td>\n",
       "      <td>1</td>\n",
       "      <td>2015</td>\n",
       "      <td>5</td>\n",
       "      <td>May</td>\n",
       "      <td>19</td>\n",
       "      <td>7</td>\n",
       "      <td>3</td>\n",
       "      <td>Thursday</td>\n",
       "      <td>19</td>\n",
       "      <td>52</td>\n",
       "      <td>Spring</td>\n",
       "      <td>evening</td>\n",
       "    </tr>\n",
       "    <tr>\n",
       "      <th>1</th>\n",
       "      <td>7.7</td>\n",
       "      <td>2009-07-17 20:04:56</td>\n",
       "      <td>-73.994355</td>\n",
       "      <td>40.728225</td>\n",
       "      <td>-73.994710</td>\n",
       "      <td>40.750325</td>\n",
       "      <td>1</td>\n",
       "      <td>2009</td>\n",
       "      <td>7</td>\n",
       "      <td>July</td>\n",
       "      <td>29</td>\n",
       "      <td>17</td>\n",
       "      <td>4</td>\n",
       "      <td>Friday</td>\n",
       "      <td>20</td>\n",
       "      <td>4</td>\n",
       "      <td>Summer</td>\n",
       "      <td>evening</td>\n",
       "    </tr>\n",
       "    <tr>\n",
       "      <th>2</th>\n",
       "      <td>12.9</td>\n",
       "      <td>2009-08-24 21:45:00</td>\n",
       "      <td>-74.005043</td>\n",
       "      <td>40.740770</td>\n",
       "      <td>-73.962565</td>\n",
       "      <td>40.772647</td>\n",
       "      <td>1</td>\n",
       "      <td>2009</td>\n",
       "      <td>8</td>\n",
       "      <td>August</td>\n",
       "      <td>35</td>\n",
       "      <td>24</td>\n",
       "      <td>0</td>\n",
       "      <td>Monday</td>\n",
       "      <td>21</td>\n",
       "      <td>45</td>\n",
       "      <td>Summer</td>\n",
       "      <td>evening</td>\n",
       "    </tr>\n",
       "    <tr>\n",
       "      <th>3</th>\n",
       "      <td>5.3</td>\n",
       "      <td>2009-06-26 08:22:21</td>\n",
       "      <td>-73.976124</td>\n",
       "      <td>40.790844</td>\n",
       "      <td>-73.965316</td>\n",
       "      <td>40.803349</td>\n",
       "      <td>3</td>\n",
       "      <td>2009</td>\n",
       "      <td>6</td>\n",
       "      <td>June</td>\n",
       "      <td>26</td>\n",
       "      <td>26</td>\n",
       "      <td>4</td>\n",
       "      <td>Friday</td>\n",
       "      <td>8</td>\n",
       "      <td>22</td>\n",
       "      <td>Summer</td>\n",
       "      <td>morning</td>\n",
       "    </tr>\n",
       "    <tr>\n",
       "      <th>4</th>\n",
       "      <td>16.0</td>\n",
       "      <td>2014-08-28 17:47:00</td>\n",
       "      <td>-73.925023</td>\n",
       "      <td>40.744085</td>\n",
       "      <td>-73.973082</td>\n",
       "      <td>40.761247</td>\n",
       "      <td>5</td>\n",
       "      <td>2014</td>\n",
       "      <td>8</td>\n",
       "      <td>August</td>\n",
       "      <td>35</td>\n",
       "      <td>28</td>\n",
       "      <td>3</td>\n",
       "      <td>Thursday</td>\n",
       "      <td>17</td>\n",
       "      <td>47</td>\n",
       "      <td>Summer</td>\n",
       "      <td>afternoon</td>\n",
       "    </tr>\n",
       "  </tbody>\n",
       "</table>\n",
       "</div>"
      ],
      "text/plain": [
       "   fare_amount     pickup_datetime  pickup_longitude  pickup_latitude  \\\n",
       "0          7.5 2015-05-07 19:52:06        -73.999817        40.738354   \n",
       "1          7.7 2009-07-17 20:04:56        -73.994355        40.728225   \n",
       "2         12.9 2009-08-24 21:45:00        -74.005043        40.740770   \n",
       "3          5.3 2009-06-26 08:22:21        -73.976124        40.790844   \n",
       "4         16.0 2014-08-28 17:47:00        -73.925023        40.744085   \n",
       "\n",
       "   dropoff_longitude  dropoff_latitude  passenger_count  Year  Month  \\\n",
       "0         -73.999512         40.723217                1  2015      5   \n",
       "1         -73.994710         40.750325                1  2009      7   \n",
       "2         -73.962565         40.772647                1  2009      8   \n",
       "3         -73.965316         40.803349                3  2009      6   \n",
       "4         -73.973082         40.761247                5  2014      8   \n",
       "\n",
       "  Month_Name  Week  Day  Week_Day  Day_Name  Hour  Minute  Season     Period  \n",
       "0        May    19    7         3  Thursday    19      52  Spring    evening  \n",
       "1       July    29   17         4    Friday    20       4  Summer    evening  \n",
       "2     August    35   24         0    Monday    21      45  Summer    evening  \n",
       "3       June    26   26         4    Friday     8      22  Summer    morning  \n",
       "4     August    35   28         3  Thursday    17      47  Summer  afternoon  "
      ]
     },
     "execution_count": 21,
     "metadata": {},
     "output_type": "execute_result"
    }
   ],
   "source": [
    "def map_months(x):\n",
    "    if x in [12, 1, 2]:\n",
    "        return 'Winter'\n",
    "    elif x in [3, 4, 5]:\n",
    "        return 'Spring'\n",
    "    elif x in [6, 7, 8]:\n",
    "        return 'Summer'\n",
    "    elif x in [9, 10, 11]:\n",
    "        return 'Autumn'\n",
    "\n",
    "def map_hours(x):\n",
    "    if x in range(0, 13):\n",
    "        return 'morning'\n",
    "    elif x in range(13, 19):\n",
    "        return 'afternoon'\n",
    "    else:\n",
    "        return 'evening'\n",
    "\n",
    "    \n",
    "df['Season'] = df['Month'].apply(map_months)\n",
    "    \n",
    "df['Period'] = df['Hour'].apply(map_hours)\n",
    "df.head()"
   ]
  },
  {
   "cell_type": "code",
   "execution_count": null,
   "id": "95b81c08",
   "metadata": {},
   "outputs": [],
   "source": []
  },
  {
   "cell_type": "code",
   "execution_count": null,
   "id": "0cfb8db5",
   "metadata": {},
   "outputs": [],
   "source": []
  },
  {
   "cell_type": "code",
   "execution_count": null,
   "id": "76f6f5d5",
   "metadata": {},
   "outputs": [],
   "source": []
  },
  {
   "cell_type": "code",
   "execution_count": null,
   "id": "734cd110",
   "metadata": {},
   "outputs": [],
   "source": []
  },
  {
   "cell_type": "code",
   "execution_count": 22,
   "id": "70573e62",
   "metadata": {
    "scrolled": true
   },
   "outputs": [
    {
     "data": {
      "text/html": [
       "<div>\n",
       "<style scoped>\n",
       "    .dataframe tbody tr th:only-of-type {\n",
       "        vertical-align: middle;\n",
       "    }\n",
       "\n",
       "    .dataframe tbody tr th {\n",
       "        vertical-align: top;\n",
       "    }\n",
       "\n",
       "    .dataframe thead th {\n",
       "        text-align: right;\n",
       "    }\n",
       "</style>\n",
       "<table border=\"1\" class=\"dataframe\">\n",
       "  <thead>\n",
       "    <tr style=\"text-align: right;\">\n",
       "      <th></th>\n",
       "      <th>fare_amount</th>\n",
       "      <th>pickup_datetime</th>\n",
       "      <th>pickup_longitude</th>\n",
       "      <th>pickup_latitude</th>\n",
       "      <th>dropoff_longitude</th>\n",
       "      <th>dropoff_latitude</th>\n",
       "      <th>passenger_count</th>\n",
       "      <th>Year</th>\n",
       "      <th>Month</th>\n",
       "      <th>Month_Name</th>\n",
       "      <th>Week</th>\n",
       "      <th>Day</th>\n",
       "      <th>Week_Day</th>\n",
       "      <th>Day_Name</th>\n",
       "      <th>Hour</th>\n",
       "      <th>Minute</th>\n",
       "      <th>Season</th>\n",
       "      <th>Period</th>\n",
       "    </tr>\n",
       "  </thead>\n",
       "  <tbody>\n",
       "    <tr>\n",
       "      <th>0</th>\n",
       "      <td>7.5</td>\n",
       "      <td>2015-05-07 19:52:06</td>\n",
       "      <td>-73.999817</td>\n",
       "      <td>40.738354</td>\n",
       "      <td>-73.999512</td>\n",
       "      <td>40.723217</td>\n",
       "      <td>1</td>\n",
       "      <td>2015</td>\n",
       "      <td>5</td>\n",
       "      <td>May</td>\n",
       "      <td>19</td>\n",
       "      <td>7</td>\n",
       "      <td>3</td>\n",
       "      <td>Thursday</td>\n",
       "      <td>19</td>\n",
       "      <td>52</td>\n",
       "      <td>Spring</td>\n",
       "      <td>evening</td>\n",
       "    </tr>\n",
       "    <tr>\n",
       "      <th>1</th>\n",
       "      <td>7.7</td>\n",
       "      <td>2009-07-17 20:04:56</td>\n",
       "      <td>-73.994355</td>\n",
       "      <td>40.728225</td>\n",
       "      <td>-73.994710</td>\n",
       "      <td>40.750325</td>\n",
       "      <td>1</td>\n",
       "      <td>2009</td>\n",
       "      <td>7</td>\n",
       "      <td>July</td>\n",
       "      <td>29</td>\n",
       "      <td>17</td>\n",
       "      <td>4</td>\n",
       "      <td>Friday</td>\n",
       "      <td>20</td>\n",
       "      <td>4</td>\n",
       "      <td>Summer</td>\n",
       "      <td>evening</td>\n",
       "    </tr>\n",
       "    <tr>\n",
       "      <th>2</th>\n",
       "      <td>12.9</td>\n",
       "      <td>2009-08-24 21:45:00</td>\n",
       "      <td>-74.005043</td>\n",
       "      <td>40.740770</td>\n",
       "      <td>-73.962565</td>\n",
       "      <td>40.772647</td>\n",
       "      <td>1</td>\n",
       "      <td>2009</td>\n",
       "      <td>8</td>\n",
       "      <td>August</td>\n",
       "      <td>35</td>\n",
       "      <td>24</td>\n",
       "      <td>0</td>\n",
       "      <td>Monday</td>\n",
       "      <td>21</td>\n",
       "      <td>45</td>\n",
       "      <td>Summer</td>\n",
       "      <td>evening</td>\n",
       "    </tr>\n",
       "    <tr>\n",
       "      <th>3</th>\n",
       "      <td>5.3</td>\n",
       "      <td>2009-06-26 08:22:21</td>\n",
       "      <td>-73.976124</td>\n",
       "      <td>40.790844</td>\n",
       "      <td>-73.965316</td>\n",
       "      <td>40.803349</td>\n",
       "      <td>3</td>\n",
       "      <td>2009</td>\n",
       "      <td>6</td>\n",
       "      <td>June</td>\n",
       "      <td>26</td>\n",
       "      <td>26</td>\n",
       "      <td>4</td>\n",
       "      <td>Friday</td>\n",
       "      <td>8</td>\n",
       "      <td>22</td>\n",
       "      <td>Summer</td>\n",
       "      <td>morning</td>\n",
       "    </tr>\n",
       "    <tr>\n",
       "      <th>4</th>\n",
       "      <td>16.0</td>\n",
       "      <td>2014-08-28 17:47:00</td>\n",
       "      <td>-73.925023</td>\n",
       "      <td>40.744085</td>\n",
       "      <td>-73.973082</td>\n",
       "      <td>40.761247</td>\n",
       "      <td>5</td>\n",
       "      <td>2014</td>\n",
       "      <td>8</td>\n",
       "      <td>August</td>\n",
       "      <td>35</td>\n",
       "      <td>28</td>\n",
       "      <td>3</td>\n",
       "      <td>Thursday</td>\n",
       "      <td>17</td>\n",
       "      <td>47</td>\n",
       "      <td>Summer</td>\n",
       "      <td>afternoon</td>\n",
       "    </tr>\n",
       "    <tr>\n",
       "      <th>...</th>\n",
       "      <td>...</td>\n",
       "      <td>...</td>\n",
       "      <td>...</td>\n",
       "      <td>...</td>\n",
       "      <td>...</td>\n",
       "      <td>...</td>\n",
       "      <td>...</td>\n",
       "      <td>...</td>\n",
       "      <td>...</td>\n",
       "      <td>...</td>\n",
       "      <td>...</td>\n",
       "      <td>...</td>\n",
       "      <td>...</td>\n",
       "      <td>...</td>\n",
       "      <td>...</td>\n",
       "      <td>...</td>\n",
       "      <td>...</td>\n",
       "      <td>...</td>\n",
       "    </tr>\n",
       "    <tr>\n",
       "      <th>199978</th>\n",
       "      <td>3.0</td>\n",
       "      <td>2012-10-28 10:49:00</td>\n",
       "      <td>-73.987042</td>\n",
       "      <td>40.739367</td>\n",
       "      <td>-73.986525</td>\n",
       "      <td>40.740297</td>\n",
       "      <td>1</td>\n",
       "      <td>2012</td>\n",
       "      <td>10</td>\n",
       "      <td>October</td>\n",
       "      <td>43</td>\n",
       "      <td>28</td>\n",
       "      <td>6</td>\n",
       "      <td>Sunday</td>\n",
       "      <td>10</td>\n",
       "      <td>49</td>\n",
       "      <td>Autumn</td>\n",
       "      <td>morning</td>\n",
       "    </tr>\n",
       "    <tr>\n",
       "      <th>199979</th>\n",
       "      <td>7.5</td>\n",
       "      <td>2014-03-14 01:09:00</td>\n",
       "      <td>-73.984722</td>\n",
       "      <td>40.736837</td>\n",
       "      <td>-74.006672</td>\n",
       "      <td>40.739620</td>\n",
       "      <td>1</td>\n",
       "      <td>2014</td>\n",
       "      <td>3</td>\n",
       "      <td>March</td>\n",
       "      <td>11</td>\n",
       "      <td>14</td>\n",
       "      <td>4</td>\n",
       "      <td>Friday</td>\n",
       "      <td>1</td>\n",
       "      <td>9</td>\n",
       "      <td>Spring</td>\n",
       "      <td>morning</td>\n",
       "    </tr>\n",
       "    <tr>\n",
       "      <th>199980</th>\n",
       "      <td>30.9</td>\n",
       "      <td>2009-06-29 00:42:00</td>\n",
       "      <td>-73.986017</td>\n",
       "      <td>40.756487</td>\n",
       "      <td>-73.858957</td>\n",
       "      <td>40.692588</td>\n",
       "      <td>2</td>\n",
       "      <td>2009</td>\n",
       "      <td>6</td>\n",
       "      <td>June</td>\n",
       "      <td>27</td>\n",
       "      <td>29</td>\n",
       "      <td>0</td>\n",
       "      <td>Monday</td>\n",
       "      <td>0</td>\n",
       "      <td>42</td>\n",
       "      <td>Summer</td>\n",
       "      <td>morning</td>\n",
       "    </tr>\n",
       "    <tr>\n",
       "      <th>199981</th>\n",
       "      <td>14.5</td>\n",
       "      <td>2015-05-20 14:56:25</td>\n",
       "      <td>-73.997124</td>\n",
       "      <td>40.725452</td>\n",
       "      <td>-73.983215</td>\n",
       "      <td>40.695415</td>\n",
       "      <td>1</td>\n",
       "      <td>2015</td>\n",
       "      <td>5</td>\n",
       "      <td>May</td>\n",
       "      <td>21</td>\n",
       "      <td>20</td>\n",
       "      <td>2</td>\n",
       "      <td>Wednesday</td>\n",
       "      <td>14</td>\n",
       "      <td>56</td>\n",
       "      <td>Spring</td>\n",
       "      <td>afternoon</td>\n",
       "    </tr>\n",
       "    <tr>\n",
       "      <th>199982</th>\n",
       "      <td>14.1</td>\n",
       "      <td>2010-05-15 04:08:00</td>\n",
       "      <td>-73.984395</td>\n",
       "      <td>40.720077</td>\n",
       "      <td>-73.985508</td>\n",
       "      <td>40.768793</td>\n",
       "      <td>1</td>\n",
       "      <td>2010</td>\n",
       "      <td>5</td>\n",
       "      <td>May</td>\n",
       "      <td>19</td>\n",
       "      <td>15</td>\n",
       "      <td>5</td>\n",
       "      <td>Saturday</td>\n",
       "      <td>4</td>\n",
       "      <td>8</td>\n",
       "      <td>Spring</td>\n",
       "      <td>morning</td>\n",
       "    </tr>\n",
       "  </tbody>\n",
       "</table>\n",
       "<p>199982 rows × 18 columns</p>\n",
       "</div>"
      ],
      "text/plain": [
       "        fare_amount     pickup_datetime  pickup_longitude  pickup_latitude  \\\n",
       "0               7.5 2015-05-07 19:52:06        -73.999817        40.738354   \n",
       "1               7.7 2009-07-17 20:04:56        -73.994355        40.728225   \n",
       "2              12.9 2009-08-24 21:45:00        -74.005043        40.740770   \n",
       "3               5.3 2009-06-26 08:22:21        -73.976124        40.790844   \n",
       "4              16.0 2014-08-28 17:47:00        -73.925023        40.744085   \n",
       "...             ...                 ...               ...              ...   \n",
       "199978          3.0 2012-10-28 10:49:00        -73.987042        40.739367   \n",
       "199979          7.5 2014-03-14 01:09:00        -73.984722        40.736837   \n",
       "199980         30.9 2009-06-29 00:42:00        -73.986017        40.756487   \n",
       "199981         14.5 2015-05-20 14:56:25        -73.997124        40.725452   \n",
       "199982         14.1 2010-05-15 04:08:00        -73.984395        40.720077   \n",
       "\n",
       "        dropoff_longitude  dropoff_latitude  passenger_count  Year  Month  \\\n",
       "0              -73.999512         40.723217                1  2015      5   \n",
       "1              -73.994710         40.750325                1  2009      7   \n",
       "2              -73.962565         40.772647                1  2009      8   \n",
       "3              -73.965316         40.803349                3  2009      6   \n",
       "4              -73.973082         40.761247                5  2014      8   \n",
       "...                   ...               ...              ...   ...    ...   \n",
       "199978         -73.986525         40.740297                1  2012     10   \n",
       "199979         -74.006672         40.739620                1  2014      3   \n",
       "199980         -73.858957         40.692588                2  2009      6   \n",
       "199981         -73.983215         40.695415                1  2015      5   \n",
       "199982         -73.985508         40.768793                1  2010      5   \n",
       "\n",
       "       Month_Name  Week  Day  Week_Day   Day_Name  Hour  Minute  Season  \\\n",
       "0             May    19    7         3   Thursday    19      52  Spring   \n",
       "1            July    29   17         4     Friday    20       4  Summer   \n",
       "2          August    35   24         0     Monday    21      45  Summer   \n",
       "3            June    26   26         4     Friday     8      22  Summer   \n",
       "4          August    35   28         3   Thursday    17      47  Summer   \n",
       "...           ...   ...  ...       ...        ...   ...     ...     ...   \n",
       "199978    October    43   28         6     Sunday    10      49  Autumn   \n",
       "199979      March    11   14         4     Friday     1       9  Spring   \n",
       "199980       June    27   29         0     Monday     0      42  Summer   \n",
       "199981        May    21   20         2  Wednesday    14      56  Spring   \n",
       "199982        May    19   15         5   Saturday     4       8  Spring   \n",
       "\n",
       "           Period  \n",
       "0         evening  \n",
       "1         evening  \n",
       "2         evening  \n",
       "3         morning  \n",
       "4       afternoon  \n",
       "...           ...  \n",
       "199978    morning  \n",
       "199979    morning  \n",
       "199980    morning  \n",
       "199981  afternoon  \n",
       "199982    morning  \n",
       "\n",
       "[199982 rows x 18 columns]"
      ]
     },
     "execution_count": 22,
     "metadata": {},
     "output_type": "execute_result"
    }
   ],
   "source": [
    "df"
   ]
  },
  {
   "cell_type": "code",
   "execution_count": 23,
   "id": "c9e5b84d",
   "metadata": {},
   "outputs": [
    {
     "data": {
      "text/plain": [
       "fare_amount          0\n",
       "pickup_datetime      0\n",
       "pickup_longitude     0\n",
       "pickup_latitude      0\n",
       "dropoff_longitude    1\n",
       "dropoff_latitude     1\n",
       "passenger_count      0\n",
       "Year                 0\n",
       "Month                0\n",
       "Month_Name           0\n",
       "Week                 0\n",
       "Day                  0\n",
       "Week_Day             0\n",
       "Day_Name             0\n",
       "Hour                 0\n",
       "Minute               0\n",
       "Season               0\n",
       "Period               0\n",
       "dtype: int64"
      ]
     },
     "execution_count": 23,
     "metadata": {},
     "output_type": "execute_result"
    }
   ],
   "source": [
    "df.isna().sum()"
   ]
  },
  {
   "cell_type": "code",
   "execution_count": 24,
   "id": "b5968915",
   "metadata": {},
   "outputs": [
    {
     "data": {
      "text/html": [
       "<div>\n",
       "<style scoped>\n",
       "    .dataframe tbody tr th:only-of-type {\n",
       "        vertical-align: middle;\n",
       "    }\n",
       "\n",
       "    .dataframe tbody tr th {\n",
       "        vertical-align: top;\n",
       "    }\n",
       "\n",
       "    .dataframe thead th {\n",
       "        text-align: right;\n",
       "    }\n",
       "</style>\n",
       "<table border=\"1\" class=\"dataframe\">\n",
       "  <thead>\n",
       "    <tr style=\"text-align: right;\">\n",
       "      <th></th>\n",
       "      <th>fare_amount</th>\n",
       "      <th>pickup_datetime</th>\n",
       "      <th>pickup_longitude</th>\n",
       "      <th>pickup_latitude</th>\n",
       "      <th>dropoff_longitude</th>\n",
       "      <th>dropoff_latitude</th>\n",
       "      <th>passenger_count</th>\n",
       "      <th>Year</th>\n",
       "      <th>Month</th>\n",
       "      <th>Month_Name</th>\n",
       "      <th>Week</th>\n",
       "      <th>Day</th>\n",
       "      <th>Week_Day</th>\n",
       "      <th>Day_Name</th>\n",
       "      <th>Hour</th>\n",
       "      <th>Minute</th>\n",
       "      <th>Season</th>\n",
       "      <th>Period</th>\n",
       "    </tr>\n",
       "  </thead>\n",
       "  <tbody>\n",
       "    <tr>\n",
       "      <th>87943</th>\n",
       "      <td>24.1</td>\n",
       "      <td>2013-07-02 03:51:57</td>\n",
       "      <td>-73.950581</td>\n",
       "      <td>40.779692</td>\n",
       "      <td>NaN</td>\n",
       "      <td>NaN</td>\n",
       "      <td>0</td>\n",
       "      <td>2013</td>\n",
       "      <td>7</td>\n",
       "      <td>July</td>\n",
       "      <td>27</td>\n",
       "      <td>2</td>\n",
       "      <td>1</td>\n",
       "      <td>Tuesday</td>\n",
       "      <td>3</td>\n",
       "      <td>51</td>\n",
       "      <td>Summer</td>\n",
       "      <td>morning</td>\n",
       "    </tr>\n",
       "  </tbody>\n",
       "</table>\n",
       "</div>"
      ],
      "text/plain": [
       "       fare_amount     pickup_datetime  pickup_longitude  pickup_latitude  \\\n",
       "87943         24.1 2013-07-02 03:51:57        -73.950581        40.779692   \n",
       "\n",
       "       dropoff_longitude  dropoff_latitude  passenger_count  Year  Month  \\\n",
       "87943                NaN               NaN                0  2013      7   \n",
       "\n",
       "      Month_Name  Week  Day  Week_Day Day_Name  Hour  Minute  Season   Period  \n",
       "87943       July    27    2         1  Tuesday     3      51  Summer  morning  "
      ]
     },
     "execution_count": 24,
     "metadata": {},
     "output_type": "execute_result"
    }
   ],
   "source": [
    "df[df['dropoff_longitude'].isna()]"
   ]
  },
  {
   "cell_type": "code",
   "execution_count": 25,
   "id": "bc1f293a",
   "metadata": {},
   "outputs": [],
   "source": [
    "df.dropna(inplace=True)"
   ]
  },
  {
   "cell_type": "code",
   "execution_count": 26,
   "id": "2d67ec8c",
   "metadata": {
    "scrolled": true
   },
   "outputs": [
    {
     "data": {
      "text/plain": [
       "fare_amount          0\n",
       "pickup_datetime      0\n",
       "pickup_longitude     0\n",
       "pickup_latitude      0\n",
       "dropoff_longitude    0\n",
       "dropoff_latitude     0\n",
       "passenger_count      0\n",
       "Year                 0\n",
       "Month                0\n",
       "Month_Name           0\n",
       "Week                 0\n",
       "Day                  0\n",
       "Week_Day             0\n",
       "Day_Name             0\n",
       "Hour                 0\n",
       "Minute               0\n",
       "Season               0\n",
       "Period               0\n",
       "dtype: int64"
      ]
     },
     "execution_count": 26,
     "metadata": {},
     "output_type": "execute_result"
    }
   ],
   "source": [
    "df.isna().sum()"
   ]
  },
  {
   "cell_type": "code",
   "execution_count": 27,
   "id": "8f4ae5b1",
   "metadata": {},
   "outputs": [
    {
     "name": "stdout",
     "output_type": "stream",
     "text": [
      "<class 'pandas.core.frame.DataFrame'>\n",
      "Int64Index: 199981 entries, 0 to 199982\n",
      "Data columns (total 18 columns):\n",
      " #   Column             Non-Null Count   Dtype         \n",
      "---  ------             --------------   -----         \n",
      " 0   fare_amount        199981 non-null  float64       \n",
      " 1   pickup_datetime    199981 non-null  datetime64[ns]\n",
      " 2   pickup_longitude   199981 non-null  float64       \n",
      " 3   pickup_latitude    199981 non-null  float64       \n",
      " 4   dropoff_longitude  199981 non-null  float64       \n",
      " 5   dropoff_latitude   199981 non-null  float64       \n",
      " 6   passenger_count    199981 non-null  int64         \n",
      " 7   Year               199981 non-null  int64         \n",
      " 8   Month              199981 non-null  int64         \n",
      " 9   Month_Name         199981 non-null  object        \n",
      " 10  Week               199981 non-null  int64         \n",
      " 11  Day                199981 non-null  int64         \n",
      " 12  Week_Day           199981 non-null  int64         \n",
      " 13  Day_Name           199981 non-null  object        \n",
      " 14  Hour               199981 non-null  int64         \n",
      " 15  Minute             199981 non-null  int64         \n",
      " 16  Season             199981 non-null  object        \n",
      " 17  Period             199981 non-null  object        \n",
      "dtypes: datetime64[ns](1), float64(5), int64(8), object(4)\n",
      "memory usage: 29.0+ MB\n"
     ]
    }
   ],
   "source": [
    "df.info()"
   ]
  },
  {
   "cell_type": "code",
   "execution_count": 28,
   "id": "239e1ef5",
   "metadata": {
    "scrolled": true
   },
   "outputs": [
    {
     "data": {
      "text/plain": [
       "Int64Index([56617, 61793, 75849, 91418], dtype='int64')"
      ]
     },
     "execution_count": 28,
     "metadata": {},
     "output_type": "execute_result"
    }
   ],
   "source": [
    "df[df['pickup_latitude'] > 90].index"
   ]
  },
  {
   "cell_type": "code",
   "execution_count": 29,
   "id": "e89475ad",
   "metadata": {
    "scrolled": true
   },
   "outputs": [
    {
     "data": {
      "text/plain": [
       "Int64Index([], dtype='int64')"
      ]
     },
     "execution_count": 29,
     "metadata": {},
     "output_type": "execute_result"
    }
   ],
   "source": [
    "df[df['pickup_latitude'] < -90].index"
   ]
  },
  {
   "cell_type": "code",
   "execution_count": 30,
   "id": "478a0cd5",
   "metadata": {},
   "outputs": [
    {
     "data": {
      "text/plain": [
       "(7, 5)"
      ]
     },
     "execution_count": 30,
     "metadata": {},
     "output_type": "execute_result"
    }
   ],
   "source": [
    "Wrongindices = []\n",
    "\n",
    "Wrongindices = list(df[df['dropoff_latitude'] > 90].index)\n",
    "Wrongindices.extend(df[df['dropoff_latitude'] < -90].index)\n",
    "Wrongindices.extend(df[df['pickup_latitude'] > 90].index)\n",
    "Wrongindices.extend(df[df['pickup_latitude'] < -90].index)\n",
    "len(Wrongindices), len(set(Wrongindices))"
   ]
  },
  {
   "cell_type": "code",
   "execution_count": 31,
   "id": "c0a79929",
   "metadata": {},
   "outputs": [
    {
     "data": {
      "text/plain": [
       "(199976, 18)"
      ]
     },
     "execution_count": 31,
     "metadata": {},
     "output_type": "execute_result"
    }
   ],
   "source": [
    "df.drop(Wrongindices,axis=0,inplace=True)\n",
    "df.reset_index(inplace=True)\n",
    "df.drop(['index'],axis = 1,inplace=True)\n",
    "df.shape"
   ]
  },
  {
   "cell_type": "code",
   "execution_count": 32,
   "id": "fa8135b8",
   "metadata": {
    "scrolled": true
   },
   "outputs": [
    {
     "data": {
      "text/html": [
       "<div>\n",
       "<style scoped>\n",
       "    .dataframe tbody tr th:only-of-type {\n",
       "        vertical-align: middle;\n",
       "    }\n",
       "\n",
       "    .dataframe tbody tr th {\n",
       "        vertical-align: top;\n",
       "    }\n",
       "\n",
       "    .dataframe thead th {\n",
       "        text-align: right;\n",
       "    }\n",
       "</style>\n",
       "<table border=\"1\" class=\"dataframe\">\n",
       "  <thead>\n",
       "    <tr style=\"text-align: right;\">\n",
       "      <th></th>\n",
       "      <th>fare_amount</th>\n",
       "      <th>pickup_datetime</th>\n",
       "      <th>pickup_longitude</th>\n",
       "      <th>pickup_latitude</th>\n",
       "      <th>dropoff_longitude</th>\n",
       "      <th>dropoff_latitude</th>\n",
       "      <th>passenger_count</th>\n",
       "      <th>Year</th>\n",
       "      <th>Month</th>\n",
       "      <th>Month_Name</th>\n",
       "      <th>Week</th>\n",
       "      <th>Day</th>\n",
       "      <th>Week_Day</th>\n",
       "      <th>Day_Name</th>\n",
       "      <th>Hour</th>\n",
       "      <th>Minute</th>\n",
       "      <th>Season</th>\n",
       "      <th>Period</th>\n",
       "    </tr>\n",
       "  </thead>\n",
       "  <tbody>\n",
       "    <tr>\n",
       "      <th>0</th>\n",
       "      <td>7.5</td>\n",
       "      <td>2015-05-07 19:52:06</td>\n",
       "      <td>-73.999817</td>\n",
       "      <td>40.738354</td>\n",
       "      <td>-73.999512</td>\n",
       "      <td>40.723217</td>\n",
       "      <td>1</td>\n",
       "      <td>2015</td>\n",
       "      <td>5</td>\n",
       "      <td>May</td>\n",
       "      <td>19</td>\n",
       "      <td>7</td>\n",
       "      <td>3</td>\n",
       "      <td>Thursday</td>\n",
       "      <td>19</td>\n",
       "      <td>52</td>\n",
       "      <td>Spring</td>\n",
       "      <td>evening</td>\n",
       "    </tr>\n",
       "    <tr>\n",
       "      <th>1</th>\n",
       "      <td>7.7</td>\n",
       "      <td>2009-07-17 20:04:56</td>\n",
       "      <td>-73.994355</td>\n",
       "      <td>40.728225</td>\n",
       "      <td>-73.994710</td>\n",
       "      <td>40.750325</td>\n",
       "      <td>1</td>\n",
       "      <td>2009</td>\n",
       "      <td>7</td>\n",
       "      <td>July</td>\n",
       "      <td>29</td>\n",
       "      <td>17</td>\n",
       "      <td>4</td>\n",
       "      <td>Friday</td>\n",
       "      <td>20</td>\n",
       "      <td>4</td>\n",
       "      <td>Summer</td>\n",
       "      <td>evening</td>\n",
       "    </tr>\n",
       "    <tr>\n",
       "      <th>2</th>\n",
       "      <td>12.9</td>\n",
       "      <td>2009-08-24 21:45:00</td>\n",
       "      <td>-74.005043</td>\n",
       "      <td>40.740770</td>\n",
       "      <td>-73.962565</td>\n",
       "      <td>40.772647</td>\n",
       "      <td>1</td>\n",
       "      <td>2009</td>\n",
       "      <td>8</td>\n",
       "      <td>August</td>\n",
       "      <td>35</td>\n",
       "      <td>24</td>\n",
       "      <td>0</td>\n",
       "      <td>Monday</td>\n",
       "      <td>21</td>\n",
       "      <td>45</td>\n",
       "      <td>Summer</td>\n",
       "      <td>evening</td>\n",
       "    </tr>\n",
       "    <tr>\n",
       "      <th>3</th>\n",
       "      <td>5.3</td>\n",
       "      <td>2009-06-26 08:22:21</td>\n",
       "      <td>-73.976124</td>\n",
       "      <td>40.790844</td>\n",
       "      <td>-73.965316</td>\n",
       "      <td>40.803349</td>\n",
       "      <td>3</td>\n",
       "      <td>2009</td>\n",
       "      <td>6</td>\n",
       "      <td>June</td>\n",
       "      <td>26</td>\n",
       "      <td>26</td>\n",
       "      <td>4</td>\n",
       "      <td>Friday</td>\n",
       "      <td>8</td>\n",
       "      <td>22</td>\n",
       "      <td>Summer</td>\n",
       "      <td>morning</td>\n",
       "    </tr>\n",
       "    <tr>\n",
       "      <th>4</th>\n",
       "      <td>16.0</td>\n",
       "      <td>2014-08-28 17:47:00</td>\n",
       "      <td>-73.925023</td>\n",
       "      <td>40.744085</td>\n",
       "      <td>-73.973082</td>\n",
       "      <td>40.761247</td>\n",
       "      <td>5</td>\n",
       "      <td>2014</td>\n",
       "      <td>8</td>\n",
       "      <td>August</td>\n",
       "      <td>35</td>\n",
       "      <td>28</td>\n",
       "      <td>3</td>\n",
       "      <td>Thursday</td>\n",
       "      <td>17</td>\n",
       "      <td>47</td>\n",
       "      <td>Summer</td>\n",
       "      <td>afternoon</td>\n",
       "    </tr>\n",
       "    <tr>\n",
       "      <th>...</th>\n",
       "      <td>...</td>\n",
       "      <td>...</td>\n",
       "      <td>...</td>\n",
       "      <td>...</td>\n",
       "      <td>...</td>\n",
       "      <td>...</td>\n",
       "      <td>...</td>\n",
       "      <td>...</td>\n",
       "      <td>...</td>\n",
       "      <td>...</td>\n",
       "      <td>...</td>\n",
       "      <td>...</td>\n",
       "      <td>...</td>\n",
       "      <td>...</td>\n",
       "      <td>...</td>\n",
       "      <td>...</td>\n",
       "      <td>...</td>\n",
       "      <td>...</td>\n",
       "    </tr>\n",
       "    <tr>\n",
       "      <th>199971</th>\n",
       "      <td>3.0</td>\n",
       "      <td>2012-10-28 10:49:00</td>\n",
       "      <td>-73.987042</td>\n",
       "      <td>40.739367</td>\n",
       "      <td>-73.986525</td>\n",
       "      <td>40.740297</td>\n",
       "      <td>1</td>\n",
       "      <td>2012</td>\n",
       "      <td>10</td>\n",
       "      <td>October</td>\n",
       "      <td>43</td>\n",
       "      <td>28</td>\n",
       "      <td>6</td>\n",
       "      <td>Sunday</td>\n",
       "      <td>10</td>\n",
       "      <td>49</td>\n",
       "      <td>Autumn</td>\n",
       "      <td>morning</td>\n",
       "    </tr>\n",
       "    <tr>\n",
       "      <th>199972</th>\n",
       "      <td>7.5</td>\n",
       "      <td>2014-03-14 01:09:00</td>\n",
       "      <td>-73.984722</td>\n",
       "      <td>40.736837</td>\n",
       "      <td>-74.006672</td>\n",
       "      <td>40.739620</td>\n",
       "      <td>1</td>\n",
       "      <td>2014</td>\n",
       "      <td>3</td>\n",
       "      <td>March</td>\n",
       "      <td>11</td>\n",
       "      <td>14</td>\n",
       "      <td>4</td>\n",
       "      <td>Friday</td>\n",
       "      <td>1</td>\n",
       "      <td>9</td>\n",
       "      <td>Spring</td>\n",
       "      <td>morning</td>\n",
       "    </tr>\n",
       "    <tr>\n",
       "      <th>199973</th>\n",
       "      <td>30.9</td>\n",
       "      <td>2009-06-29 00:42:00</td>\n",
       "      <td>-73.986017</td>\n",
       "      <td>40.756487</td>\n",
       "      <td>-73.858957</td>\n",
       "      <td>40.692588</td>\n",
       "      <td>2</td>\n",
       "      <td>2009</td>\n",
       "      <td>6</td>\n",
       "      <td>June</td>\n",
       "      <td>27</td>\n",
       "      <td>29</td>\n",
       "      <td>0</td>\n",
       "      <td>Monday</td>\n",
       "      <td>0</td>\n",
       "      <td>42</td>\n",
       "      <td>Summer</td>\n",
       "      <td>morning</td>\n",
       "    </tr>\n",
       "    <tr>\n",
       "      <th>199974</th>\n",
       "      <td>14.5</td>\n",
       "      <td>2015-05-20 14:56:25</td>\n",
       "      <td>-73.997124</td>\n",
       "      <td>40.725452</td>\n",
       "      <td>-73.983215</td>\n",
       "      <td>40.695415</td>\n",
       "      <td>1</td>\n",
       "      <td>2015</td>\n",
       "      <td>5</td>\n",
       "      <td>May</td>\n",
       "      <td>21</td>\n",
       "      <td>20</td>\n",
       "      <td>2</td>\n",
       "      <td>Wednesday</td>\n",
       "      <td>14</td>\n",
       "      <td>56</td>\n",
       "      <td>Spring</td>\n",
       "      <td>afternoon</td>\n",
       "    </tr>\n",
       "    <tr>\n",
       "      <th>199975</th>\n",
       "      <td>14.1</td>\n",
       "      <td>2010-05-15 04:08:00</td>\n",
       "      <td>-73.984395</td>\n",
       "      <td>40.720077</td>\n",
       "      <td>-73.985508</td>\n",
       "      <td>40.768793</td>\n",
       "      <td>1</td>\n",
       "      <td>2010</td>\n",
       "      <td>5</td>\n",
       "      <td>May</td>\n",
       "      <td>19</td>\n",
       "      <td>15</td>\n",
       "      <td>5</td>\n",
       "      <td>Saturday</td>\n",
       "      <td>4</td>\n",
       "      <td>8</td>\n",
       "      <td>Spring</td>\n",
       "      <td>morning</td>\n",
       "    </tr>\n",
       "  </tbody>\n",
       "</table>\n",
       "<p>199976 rows × 18 columns</p>\n",
       "</div>"
      ],
      "text/plain": [
       "        fare_amount     pickup_datetime  pickup_longitude  pickup_latitude  \\\n",
       "0               7.5 2015-05-07 19:52:06        -73.999817        40.738354   \n",
       "1               7.7 2009-07-17 20:04:56        -73.994355        40.728225   \n",
       "2              12.9 2009-08-24 21:45:00        -74.005043        40.740770   \n",
       "3               5.3 2009-06-26 08:22:21        -73.976124        40.790844   \n",
       "4              16.0 2014-08-28 17:47:00        -73.925023        40.744085   \n",
       "...             ...                 ...               ...              ...   \n",
       "199971          3.0 2012-10-28 10:49:00        -73.987042        40.739367   \n",
       "199972          7.5 2014-03-14 01:09:00        -73.984722        40.736837   \n",
       "199973         30.9 2009-06-29 00:42:00        -73.986017        40.756487   \n",
       "199974         14.5 2015-05-20 14:56:25        -73.997124        40.725452   \n",
       "199975         14.1 2010-05-15 04:08:00        -73.984395        40.720077   \n",
       "\n",
       "        dropoff_longitude  dropoff_latitude  passenger_count  Year  Month  \\\n",
       "0              -73.999512         40.723217                1  2015      5   \n",
       "1              -73.994710         40.750325                1  2009      7   \n",
       "2              -73.962565         40.772647                1  2009      8   \n",
       "3              -73.965316         40.803349                3  2009      6   \n",
       "4              -73.973082         40.761247                5  2014      8   \n",
       "...                   ...               ...              ...   ...    ...   \n",
       "199971         -73.986525         40.740297                1  2012     10   \n",
       "199972         -74.006672         40.739620                1  2014      3   \n",
       "199973         -73.858957         40.692588                2  2009      6   \n",
       "199974         -73.983215         40.695415                1  2015      5   \n",
       "199975         -73.985508         40.768793                1  2010      5   \n",
       "\n",
       "       Month_Name  Week  Day  Week_Day   Day_Name  Hour  Minute  Season  \\\n",
       "0             May    19    7         3   Thursday    19      52  Spring   \n",
       "1            July    29   17         4     Friday    20       4  Summer   \n",
       "2          August    35   24         0     Monday    21      45  Summer   \n",
       "3            June    26   26         4     Friday     8      22  Summer   \n",
       "4          August    35   28         3   Thursday    17      47  Summer   \n",
       "...           ...   ...  ...       ...        ...   ...     ...     ...   \n",
       "199971    October    43   28         6     Sunday    10      49  Autumn   \n",
       "199972      March    11   14         4     Friday     1       9  Spring   \n",
       "199973       June    27   29         0     Monday     0      42  Summer   \n",
       "199974        May    21   20         2  Wednesday    14      56  Spring   \n",
       "199975        May    19   15         5   Saturday     4       8  Spring   \n",
       "\n",
       "           Period  \n",
       "0         evening  \n",
       "1         evening  \n",
       "2         evening  \n",
       "3         morning  \n",
       "4       afternoon  \n",
       "...           ...  \n",
       "199971    morning  \n",
       "199972    morning  \n",
       "199973    morning  \n",
       "199974  afternoon  \n",
       "199975    morning  \n",
       "\n",
       "[199976 rows x 18 columns]"
      ]
     },
     "execution_count": 32,
     "metadata": {},
     "output_type": "execute_result"
    }
   ],
   "source": [
    "df"
   ]
  },
  {
   "cell_type": "code",
   "execution_count": 33,
   "id": "145c999a",
   "metadata": {
    "scrolled": false
   },
   "outputs": [
    {
     "name": "stdout",
     "output_type": "stream",
     "text": [
      "<class 'pandas.core.frame.DataFrame'>\n",
      "RangeIndex: 199976 entries, 0 to 199975\n",
      "Data columns (total 18 columns):\n",
      " #   Column             Non-Null Count   Dtype         \n",
      "---  ------             --------------   -----         \n",
      " 0   fare_amount        199976 non-null  float64       \n",
      " 1   pickup_datetime    199976 non-null  datetime64[ns]\n",
      " 2   pickup_longitude   199976 non-null  float64       \n",
      " 3   pickup_latitude    199976 non-null  float64       \n",
      " 4   dropoff_longitude  199976 non-null  float64       \n",
      " 5   dropoff_latitude   199976 non-null  float64       \n",
      " 6   passenger_count    199976 non-null  int64         \n",
      " 7   Year               199976 non-null  int64         \n",
      " 8   Month              199976 non-null  int64         \n",
      " 9   Month_Name         199976 non-null  object        \n",
      " 10  Week               199976 non-null  int64         \n",
      " 11  Day                199976 non-null  int64         \n",
      " 12  Week_Day           199976 non-null  int64         \n",
      " 13  Day_Name           199976 non-null  object        \n",
      " 14  Hour               199976 non-null  int64         \n",
      " 15  Minute             199976 non-null  int64         \n",
      " 16  Season             199976 non-null  object        \n",
      " 17  Period             199976 non-null  object        \n",
      "dtypes: datetime64[ns](1), float64(5), int64(8), object(4)\n",
      "memory usage: 27.5+ MB\n"
     ]
    }
   ],
   "source": [
    "df.info()"
   ]
  },
  {
   "cell_type": "code",
   "execution_count": 34,
   "id": "90ca675c",
   "metadata": {
    "scrolled": true
   },
   "outputs": [
    {
     "data": {
      "text/plain": [
       "0"
      ]
     },
     "execution_count": 34,
     "metadata": {},
     "output_type": "execute_result"
    }
   ],
   "source": [
    "df.duplicated().sum()"
   ]
  },
  {
   "cell_type": "code",
   "execution_count": 35,
   "id": "7c7f1cb4",
   "metadata": {
    "scrolled": true
   },
   "outputs": [
    {
     "data": {
      "text/plain": [
       "Cheap        179010\n",
       "Medium        18316\n",
       "Expensive      2650\n",
       "Name: fare_amountLevel, dtype: int64"
      ]
     },
     "execution_count": 35,
     "metadata": {},
     "output_type": "execute_result"
    }
   ],
   "source": [
    "def fare_amountLevel(x) : \n",
    "    x = int(x)\n",
    "    if x < 20 : \n",
    "        return 'Cheap'\n",
    "    elif  x <50 : \n",
    "        return 'Medium'\n",
    "    else :\n",
    "        return 'Expensive'\n",
    "df['fare_amountLevel'] =df['fare_amount'] .apply(lambda x : fare_amountLevel(x))\n",
    "df['fare_amountLevel'].value_counts()"
   ]
  },
  {
   "cell_type": "code",
   "execution_count": 36,
   "id": "5770831b",
   "metadata": {},
   "outputs": [
    {
     "data": {
      "text/plain": [
       "Index(['fare_amount', 'pickup_datetime', 'pickup_longitude', 'pickup_latitude',\n",
       "       'dropoff_longitude', 'dropoff_latitude', 'passenger_count', 'Year',\n",
       "       'Month', 'Month_Name', 'Week', 'Day', 'Week_Day', 'Day_Name', 'Hour',\n",
       "       'Minute', 'Season', 'Period', 'fare_amountLevel'],\n",
       "      dtype='object')"
      ]
     },
     "execution_count": 36,
     "metadata": {},
     "output_type": "execute_result"
    }
   ],
   "source": [
    "df.columns"
   ]
  },
  {
   "cell_type": "code",
   "execution_count": 37,
   "id": "8f81016f",
   "metadata": {},
   "outputs": [
    {
     "data": {
      "text/html": [
       "<div>\n",
       "<style scoped>\n",
       "    .dataframe tbody tr th:only-of-type {\n",
       "        vertical-align: middle;\n",
       "    }\n",
       "\n",
       "    .dataframe tbody tr th {\n",
       "        vertical-align: top;\n",
       "    }\n",
       "\n",
       "    .dataframe thead th {\n",
       "        text-align: right;\n",
       "    }\n",
       "</style>\n",
       "<table border=\"1\" class=\"dataframe\">\n",
       "  <thead>\n",
       "    <tr style=\"text-align: right;\">\n",
       "      <th></th>\n",
       "      <th>fare_amount</th>\n",
       "      <th>pickup_datetime</th>\n",
       "      <th>pickup_longitude</th>\n",
       "      <th>pickup_latitude</th>\n",
       "      <th>dropoff_longitude</th>\n",
       "      <th>dropoff_latitude</th>\n",
       "      <th>passenger_count</th>\n",
       "      <th>Year</th>\n",
       "      <th>Month</th>\n",
       "      <th>Month_Name</th>\n",
       "      <th>Week</th>\n",
       "      <th>Day</th>\n",
       "      <th>Week_Day</th>\n",
       "      <th>Day_Name</th>\n",
       "      <th>Hour</th>\n",
       "      <th>Minute</th>\n",
       "      <th>Season</th>\n",
       "      <th>Period</th>\n",
       "      <th>fare_amountLevel</th>\n",
       "      <th>Destination_Km</th>\n",
       "    </tr>\n",
       "  </thead>\n",
       "  <tbody>\n",
       "    <tr>\n",
       "      <th>0</th>\n",
       "      <td>7.5</td>\n",
       "      <td>2015-05-07 19:52:06</td>\n",
       "      <td>-73.999817</td>\n",
       "      <td>40.738354</td>\n",
       "      <td>-73.999512</td>\n",
       "      <td>40.723217</td>\n",
       "      <td>1</td>\n",
       "      <td>2015</td>\n",
       "      <td>5</td>\n",
       "      <td>May</td>\n",
       "      <td>19</td>\n",
       "      <td>7</td>\n",
       "      <td>3</td>\n",
       "      <td>Thursday</td>\n",
       "      <td>19</td>\n",
       "      <td>52</td>\n",
       "      <td>Spring</td>\n",
       "      <td>evening</td>\n",
       "      <td>Cheap</td>\n",
       "      <td>1.683325</td>\n",
       "    </tr>\n",
       "    <tr>\n",
       "      <th>1</th>\n",
       "      <td>7.7</td>\n",
       "      <td>2009-07-17 20:04:56</td>\n",
       "      <td>-73.994355</td>\n",
       "      <td>40.728225</td>\n",
       "      <td>-73.994710</td>\n",
       "      <td>40.750325</td>\n",
       "      <td>1</td>\n",
       "      <td>2009</td>\n",
       "      <td>7</td>\n",
       "      <td>July</td>\n",
       "      <td>29</td>\n",
       "      <td>17</td>\n",
       "      <td>4</td>\n",
       "      <td>Friday</td>\n",
       "      <td>20</td>\n",
       "      <td>4</td>\n",
       "      <td>Summer</td>\n",
       "      <td>evening</td>\n",
       "      <td>Cheap</td>\n",
       "      <td>2.457593</td>\n",
       "    </tr>\n",
       "    <tr>\n",
       "      <th>2</th>\n",
       "      <td>12.9</td>\n",
       "      <td>2009-08-24 21:45:00</td>\n",
       "      <td>-74.005043</td>\n",
       "      <td>40.740770</td>\n",
       "      <td>-73.962565</td>\n",
       "      <td>40.772647</td>\n",
       "      <td>1</td>\n",
       "      <td>2009</td>\n",
       "      <td>8</td>\n",
       "      <td>August</td>\n",
       "      <td>35</td>\n",
       "      <td>24</td>\n",
       "      <td>0</td>\n",
       "      <td>Monday</td>\n",
       "      <td>21</td>\n",
       "      <td>45</td>\n",
       "      <td>Summer</td>\n",
       "      <td>evening</td>\n",
       "      <td>Cheap</td>\n",
       "      <td>5.036384</td>\n",
       "    </tr>\n",
       "    <tr>\n",
       "      <th>3</th>\n",
       "      <td>5.3</td>\n",
       "      <td>2009-06-26 08:22:21</td>\n",
       "      <td>-73.976124</td>\n",
       "      <td>40.790844</td>\n",
       "      <td>-73.965316</td>\n",
       "      <td>40.803349</td>\n",
       "      <td>3</td>\n",
       "      <td>2009</td>\n",
       "      <td>6</td>\n",
       "      <td>June</td>\n",
       "      <td>26</td>\n",
       "      <td>26</td>\n",
       "      <td>4</td>\n",
       "      <td>Friday</td>\n",
       "      <td>8</td>\n",
       "      <td>22</td>\n",
       "      <td>Summer</td>\n",
       "      <td>morning</td>\n",
       "      <td>Cheap</td>\n",
       "      <td>1.661686</td>\n",
       "    </tr>\n",
       "    <tr>\n",
       "      <th>4</th>\n",
       "      <td>16.0</td>\n",
       "      <td>2014-08-28 17:47:00</td>\n",
       "      <td>-73.925023</td>\n",
       "      <td>40.744085</td>\n",
       "      <td>-73.973082</td>\n",
       "      <td>40.761247</td>\n",
       "      <td>5</td>\n",
       "      <td>2014</td>\n",
       "      <td>8</td>\n",
       "      <td>August</td>\n",
       "      <td>35</td>\n",
       "      <td>28</td>\n",
       "      <td>3</td>\n",
       "      <td>Thursday</td>\n",
       "      <td>17</td>\n",
       "      <td>47</td>\n",
       "      <td>Summer</td>\n",
       "      <td>afternoon</td>\n",
       "      <td>Cheap</td>\n",
       "      <td>4.475456</td>\n",
       "    </tr>\n",
       "  </tbody>\n",
       "</table>\n",
       "</div>"
      ],
      "text/plain": [
       "   fare_amount     pickup_datetime  pickup_longitude  pickup_latitude  \\\n",
       "0          7.5 2015-05-07 19:52:06        -73.999817        40.738354   \n",
       "1          7.7 2009-07-17 20:04:56        -73.994355        40.728225   \n",
       "2         12.9 2009-08-24 21:45:00        -74.005043        40.740770   \n",
       "3          5.3 2009-06-26 08:22:21        -73.976124        40.790844   \n",
       "4         16.0 2014-08-28 17:47:00        -73.925023        40.744085   \n",
       "\n",
       "   dropoff_longitude  dropoff_latitude  passenger_count  Year  Month  \\\n",
       "0         -73.999512         40.723217                1  2015      5   \n",
       "1         -73.994710         40.750325                1  2009      7   \n",
       "2         -73.962565         40.772647                1  2009      8   \n",
       "3         -73.965316         40.803349                3  2009      6   \n",
       "4         -73.973082         40.761247                5  2014      8   \n",
       "\n",
       "  Month_Name  Week  Day  Week_Day  Day_Name  Hour  Minute  Season     Period  \\\n",
       "0        May    19    7         3  Thursday    19      52  Spring    evening   \n",
       "1       July    29   17         4    Friday    20       4  Summer    evening   \n",
       "2     August    35   24         0    Monday    21      45  Summer    evening   \n",
       "3       June    26   26         4    Friday     8      22  Summer    morning   \n",
       "4     August    35   28         3  Thursday    17      47  Summer  afternoon   \n",
       "\n",
       "  fare_amountLevel  Destination_Km  \n",
       "0            Cheap        1.683325  \n",
       "1            Cheap        2.457593  \n",
       "2            Cheap        5.036384  \n",
       "3            Cheap        1.661686  \n",
       "4            Cheap        4.475456  "
      ]
     },
     "execution_count": 37,
     "metadata": {},
     "output_type": "execute_result"
    }
   ],
   "source": [
    "def get_dist(x):\n",
    "    loc_1 = (x['pickup_latitude'], x['pickup_longitude'])\n",
    "    loc_2 = (x['dropoff_latitude'], x['dropoff_longitude'])\n",
    "    return great_circle(loc_1, loc_2).kilometers\n",
    "\n",
    "df['Destination_Km'] = df.apply(get_dist, axis=1)\n",
    "df.head()"
   ]
  },
  {
   "cell_type": "code",
   "execution_count": null,
   "id": "e3adc2da",
   "metadata": {},
   "outputs": [],
   "source": []
  },
  {
   "cell_type": "markdown",
   "id": "157811b0",
   "metadata": {},
   "source": [
    "# Data Visualization"
   ]
  },
  {
   "cell_type": "code",
   "execution_count": 38,
   "id": "508677fe",
   "metadata": {
    "scrolled": true
   },
   "outputs": [
    {
     "data": {
      "text/plain": [
       "<AxesSubplot:xlabel='fare_amount', ylabel='Density'>"
      ]
     },
     "execution_count": 38,
     "metadata": {},
     "output_type": "execute_result"
    },
    {
     "data": {
      "image/png": "[encoded data removed]",
      "text/plain": [
       "<Figure size 432x288 with 1 Axes>"
      ]
     },
     "metadata": {
      "needs_background": "light"
     },
     "output_type": "display_data"
    }
   ],
   "source": [
    "sns.kdeplot(data = df, x='fare_amount')"
   ]
  },
  {
   "cell_type": "code",
   "execution_count": 39,
   "id": "cd98108f",
   "metadata": {},
   "outputs": [
    {
     "data": {
      "text/plain": [
       "<AxesSubplot:xlabel='passenger_count', ylabel='Density'>"
      ]
     },
     "execution_count": 39,
     "metadata": {},
     "output_type": "execute_result"
    },
    {
     "data": {
      "image/png": "[encoded data removed]",
      "text/plain": [
       "<Figure size 432x288 with 1 Axes>"
      ]
     },
     "metadata": {
      "needs_background": "light"
     },
     "output_type": "display_data"
    }
   ],
   "source": [
    "sns.kdeplot(data = df, x='passenger_count')"
   ]
  },
  {
   "cell_type": "code",
   "execution_count": 40,
   "id": "d9d1b5e9",
   "metadata": {},
   "outputs": [
    {
     "data": {
      "text/plain": [
       "<AxesSubplot:xlabel='Destination_Km', ylabel='Density'>"
      ]
     },
     "execution_count": 40,
     "metadata": {},
     "output_type": "execute_result"
    },
    {
     "data": {
      "image/png": "[encoded data removed]",
      "text/plain": [
       "<Figure size 432x288 with 1 Axes>"
      ]
     },
     "metadata": {
      "needs_background": "light"
     },
     "output_type": "display_data"
    }
   ],
   "source": [
    "sns.kdeplot(data = df, x='Destination_Km')"
   ]
  },
  {
   "cell_type": "code",
   "execution_count": 42,
   "id": "5b841a75",
   "metadata": {},
   "outputs": [
    {
     "data": {
      "text/html": [
       "<div>\n",
       "<style scoped>\n",
       "    .dataframe tbody tr th:only-of-type {\n",
       "        vertical-align: middle;\n",
       "    }\n",
       "\n",
       "    .dataframe tbody tr th {\n",
       "        vertical-align: top;\n",
       "    }\n",
       "\n",
       "    .dataframe thead th {\n",
       "        text-align: right;\n",
       "    }\n",
       "</style>\n",
       "<table border=\"1\" class=\"dataframe\">\n",
       "  <thead>\n",
       "    <tr style=\"text-align: right;\">\n",
       "      <th></th>\n",
       "      <th>fare_amount</th>\n",
       "      <th>pickup_datetime</th>\n",
       "      <th>pickup_longitude</th>\n",
       "      <th>pickup_latitude</th>\n",
       "      <th>dropoff_longitude</th>\n",
       "      <th>dropoff_latitude</th>\n",
       "      <th>passenger_count</th>\n",
       "      <th>Year</th>\n",
       "      <th>Month</th>\n",
       "      <th>Month_Name</th>\n",
       "      <th>Week</th>\n",
       "      <th>Day</th>\n",
       "      <th>Week_Day</th>\n",
       "      <th>Day_Name</th>\n",
       "      <th>Hour</th>\n",
       "      <th>Minute</th>\n",
       "      <th>Season</th>\n",
       "      <th>Period</th>\n",
       "      <th>fare_amountLevel</th>\n",
       "      <th>Destination_Km</th>\n",
       "    </tr>\n",
       "  </thead>\n",
       "  <tbody>\n",
       "    <tr>\n",
       "      <th>0</th>\n",
       "      <td>7.5</td>\n",
       "      <td>2015-05-07 19:52:06</td>\n",
       "      <td>-73.999817</td>\n",
       "      <td>40.738354</td>\n",
       "      <td>-73.999512</td>\n",
       "      <td>40.723217</td>\n",
       "      <td>1</td>\n",
       "      <td>2015</td>\n",
       "      <td>5</td>\n",
       "      <td>May</td>\n",
       "      <td>19</td>\n",
       "      <td>7</td>\n",
       "      <td>3</td>\n",
       "      <td>Thursday</td>\n",
       "      <td>19</td>\n",
       "      <td>52</td>\n",
       "      <td>Spring</td>\n",
       "      <td>evening</td>\n",
       "      <td>Cheap</td>\n",
       "      <td>1.683325</td>\n",
       "    </tr>\n",
       "    <tr>\n",
       "      <th>1</th>\n",
       "      <td>7.7</td>\n",
       "      <td>2009-07-17 20:04:56</td>\n",
       "      <td>-73.994355</td>\n",
       "      <td>40.728225</td>\n",
       "      <td>-73.994710</td>\n",
       "      <td>40.750325</td>\n",
       "      <td>1</td>\n",
       "      <td>2009</td>\n",
       "      <td>7</td>\n",
       "      <td>July</td>\n",
       "      <td>29</td>\n",
       "      <td>17</td>\n",
       "      <td>4</td>\n",
       "      <td>Friday</td>\n",
       "      <td>20</td>\n",
       "      <td>4</td>\n",
       "      <td>Summer</td>\n",
       "      <td>evening</td>\n",
       "      <td>Cheap</td>\n",
       "      <td>2.457593</td>\n",
       "    </tr>\n",
       "    <tr>\n",
       "      <th>2</th>\n",
       "      <td>12.9</td>\n",
       "      <td>2009-08-24 21:45:00</td>\n",
       "      <td>-74.005043</td>\n",
       "      <td>40.740770</td>\n",
       "      <td>-73.962565</td>\n",
       "      <td>40.772647</td>\n",
       "      <td>1</td>\n",
       "      <td>2009</td>\n",
       "      <td>8</td>\n",
       "      <td>August</td>\n",
       "      <td>35</td>\n",
       "      <td>24</td>\n",
       "      <td>0</td>\n",
       "      <td>Monday</td>\n",
       "      <td>21</td>\n",
       "      <td>45</td>\n",
       "      <td>Summer</td>\n",
       "      <td>evening</td>\n",
       "      <td>Cheap</td>\n",
       "      <td>5.036384</td>\n",
       "    </tr>\n",
       "    <tr>\n",
       "      <th>3</th>\n",
       "      <td>5.3</td>\n",
       "      <td>2009-06-26 08:22:21</td>\n",
       "      <td>-73.976124</td>\n",
       "      <td>40.790844</td>\n",
       "      <td>-73.965316</td>\n",
       "      <td>40.803349</td>\n",
       "      <td>3</td>\n",
       "      <td>2009</td>\n",
       "      <td>6</td>\n",
       "      <td>June</td>\n",
       "      <td>26</td>\n",
       "      <td>26</td>\n",
       "      <td>4</td>\n",
       "      <td>Friday</td>\n",
       "      <td>8</td>\n",
       "      <td>22</td>\n",
       "      <td>Summer</td>\n",
       "      <td>morning</td>\n",
       "      <td>Cheap</td>\n",
       "      <td>1.661686</td>\n",
       "    </tr>\n",
       "    <tr>\n",
       "      <th>4</th>\n",
       "      <td>16.0</td>\n",
       "      <td>2014-08-28 17:47:00</td>\n",
       "      <td>-73.925023</td>\n",
       "      <td>40.744085</td>\n",
       "      <td>-73.973082</td>\n",
       "      <td>40.761247</td>\n",
       "      <td>5</td>\n",
       "      <td>2014</td>\n",
       "      <td>8</td>\n",
       "      <td>August</td>\n",
       "      <td>35</td>\n",
       "      <td>28</td>\n",
       "      <td>3</td>\n",
       "      <td>Thursday</td>\n",
       "      <td>17</td>\n",
       "      <td>47</td>\n",
       "      <td>Summer</td>\n",
       "      <td>afternoon</td>\n",
       "      <td>Cheap</td>\n",
       "      <td>4.475456</td>\n",
       "    </tr>\n",
       "  </tbody>\n",
       "</table>\n",
       "</div>"
      ],
      "text/plain": [
       "   fare_amount     pickup_datetime  pickup_longitude  pickup_latitude  \\\n",
       "0          7.5 2015-05-07 19:52:06        -73.999817        40.738354   \n",
       "1          7.7 2009-07-17 20:04:56        -73.994355        40.728225   \n",
       "2         12.9 2009-08-24 21:45:00        -74.005043        40.740770   \n",
       "3          5.3 2009-06-26 08:22:21        -73.976124        40.790844   \n",
       "4         16.0 2014-08-28 17:47:00        -73.925023        40.744085   \n",
       "\n",
       "   dropoff_longitude  dropoff_latitude  passenger_count  Year  Month  \\\n",
       "0         -73.999512         40.723217                1  2015      5   \n",
       "1         -73.994710         40.750325                1  2009      7   \n",
       "2         -73.962565         40.772647                1  2009      8   \n",
       "3         -73.965316         40.803349                3  2009      6   \n",
       "4         -73.973082         40.761247                5  2014      8   \n",
       "\n",
       "  Month_Name  Week  Day  Week_Day  Day_Name  Hour  Minute  Season     Period  \\\n",
       "0        May    19    7         3  Thursday    19      52  Spring    evening   \n",
       "1       July    29   17         4    Friday    20       4  Summer    evening   \n",
       "2     August    35   24         0    Monday    21      45  Summer    evening   \n",
       "3       June    26   26         4    Friday     8      22  Summer    morning   \n",
       "4     August    35   28         3  Thursday    17      47  Summer  afternoon   \n",
       "\n",
       "  fare_amountLevel  Destination_Km  \n",
       "0            Cheap        1.683325  \n",
       "1            Cheap        2.457593  \n",
       "2            Cheap        5.036384  \n",
       "3            Cheap        1.661686  \n",
       "4            Cheap        4.475456  "
      ]
     },
     "execution_count": 42,
     "metadata": {},
     "output_type": "execute_result"
    }
   ],
   "source": [
    "df.head()"
   ]
  },
  {
   "cell_type": "code",
   "execution_count": 43,
   "id": "c9b3ba05",
   "metadata": {},
   "outputs": [
    {
     "data": {
      "text/plain": [
       "<AxesSubplot:xlabel='passenger_count', ylabel='count'>"
      ]
     },
     "execution_count": 43,
     "metadata": {},
     "output_type": "execute_result"
    },
    {
     "data": {
      "image/png": "[encoded data removed]",
      "text/plain": [
       "<Figure size 432x288 with 1 Axes>"
      ]
     },
     "metadata": {
      "needs_background": "light"
     },
     "output_type": "display_data"
    }
   ],
   "source": [
    "sns.countplot(data=df,x='passenger_count')"
   ]
  },
  {
   "cell_type": "code",
   "execution_count": 44,
   "id": "e65967ec",
   "metadata": {},
   "outputs": [
    {
     "data": {
      "text/plain": [
       "<AxesSubplot:xlabel='Year', ylabel='count'>"
      ]
     },
     "execution_count": 44,
     "metadata": {},
     "output_type": "execute_result"
    },
    {
     "data": {
      "image/png": "[encoded data removed]",
      "text/plain": [
       "<Figure size 432x288 with 1 Axes>"
      ]
     },
     "metadata": {
      "needs_background": "light"
     },
     "output_type": "display_data"
    }
   ],
   "source": [
    "sns.countplot(data=df,x='Year')"
   ]
  },
  {
   "cell_type": "code",
   "execution_count": 68,
   "id": "cf493591",
   "metadata": {},
   "outputs": [
    {
     "data": {
      "text/plain": [
       "<AxesSubplot:xlabel='count', ylabel='Month_Name'>"
      ]
     },
     "execution_count": 68,
     "metadata": {},
     "output_type": "execute_result"
    },
    {
     "data": {
      "image/png": "[encoded data removed]",
      "text/plain": [
       "<Figure size 432x288 with 1 Axes>"
      ]
     },
     "metadata": {
      "needs_background": "light"
     },
     "output_type": "display_data"
    }
   ],
   "source": [
    "sns.countplot(data=df,y='Month_Name')"
   ]
  },
  {
   "cell_type": "code",
   "execution_count": 46,
   "id": "8ffaef54",
   "metadata": {},
   "outputs": [
    {
     "data": {
      "text/plain": [
       "<AxesSubplot:xlabel='Day_Name', ylabel='count'>"
      ]
     },
     "execution_count": 46,
     "metadata": {},
     "output_type": "execute_result"
    },
    {
     "data": {
      "image/png": "[encoded data removed]",
      "text/plain": [
       "<Figure size 432x288 with 1 Axes>"
      ]
     },
     "metadata": {
      "needs_background": "light"
     },
     "output_type": "display_data"
    }
   ],
   "source": [
    "sns.countplot(data=df,x='Day_Name')"
   ]
  },
  {
   "cell_type": "code",
   "execution_count": 47,
   "id": "df5de9b6",
   "metadata": {},
   "outputs": [
    {
     "data": {
      "text/plain": [
       "<AxesSubplot:xlabel='Season', ylabel='count'>"
      ]
     },
     "execution_count": 47,
     "metadata": {},
     "output_type": "execute_result"
    },
    {
     "data": {
      "image/png": "[encoded data removed]",
      "text/plain": [
       "<Figure size 432x288 with 1 Axes>"
      ]
     },
     "metadata": {
      "needs_background": "light"
     },
     "output_type": "display_data"
    }
   ],
   "source": [
    "sns.countplot(data=df,x='Season')"
   ]
  },
  {
   "cell_type": "code",
   "execution_count": 48,
   "id": "3ef78ebb",
   "metadata": {},
   "outputs": [
    {
     "data": {
      "text/plain": [
       "<AxesSubplot:xlabel='Period', ylabel='count'>"
      ]
     },
     "execution_count": 48,
     "metadata": {},
     "output_type": "execute_result"
    },
    {
     "data": {
      "image/png": "[encoded data removed]",
      "text/plain": [
       "<Figure size 432x288 with 1 Axes>"
      ]
     },
     "metadata": {
      "needs_background": "light"
     },
     "output_type": "display_data"
    }
   ],
   "source": [
    "sns.countplot(data=df,x='Period')"
   ]
  },
  {
   "cell_type": "code",
   "execution_count": 49,
   "id": "66bd8d80",
   "metadata": {},
   "outputs": [
    {
     "data": {
      "text/plain": [
       "<AxesSubplot:xlabel='fare_amountLevel', ylabel='count'>"
      ]
     },
     "execution_count": 49,
     "metadata": {},
     "output_type": "execute_result"
    },
    {
     "data": {
      "image/png": "[encoded data removed]",
      "text/plain": [
       "<Figure size 432x288 with 1 Axes>"
      ]
     },
     "metadata": {
      "needs_background": "light"
     },
     "output_type": "display_data"
    }
   ],
   "source": [
    "sns.countplot(data=df,x='fare_amountLevel')"
   ]
  },
  {
   "cell_type": "code",
   "execution_count": 69,
   "id": "e156eb35",
   "metadata": {},
   "outputs": [
    {
     "data": {
      "text/plain": [
       "<AxesSubplot:xlabel='Day_Name', ylabel='fare_amount'>"
      ]
     },
     "execution_count": 69,
     "metadata": {},
     "output_type": "execute_result"
    },
    {
     "data": {
      "image/png": "[encoded data removed]",
      "text/plain": [
       "<Figure size 432x288 with 1 Axes>"
      ]
     },
     "metadata": {
      "needs_background": "light"
     },
     "output_type": "display_data"
    }
   ],
   "source": [
    "sns.boxplot(data=df,y='fare_amount',x='Day_Name')"
   ]
  },
  {
   "cell_type": "code",
   "execution_count": 70,
   "id": "9d7bd0d4",
   "metadata": {},
   "outputs": [
    {
     "data": {
      "text/plain": [
       "<AxesSubplot:xlabel='Year', ylabel='fare_amount'>"
      ]
     },
     "execution_count": 70,
     "metadata": {},
     "output_type": "execute_result"
    },
    {
     "data": {
      "image/png": "[encoded data removed]",
      "text/plain": [
       "<Figure size 432x288 with 1 Axes>"
      ]
     },
     "metadata": {
      "needs_background": "light"
     },
     "output_type": "display_data"
    }
   ],
   "source": [
    "sns.boxplot(data=df,y='fare_amount',x='Year')"
   ]
  },
  {
   "cell_type": "code",
   "execution_count": 72,
   "id": "7cbb23da",
   "metadata": {},
   "outputs": [],
   "source": [
    "def Pie(data,feature,Limit=20) : \n",
    "    fig, ax = plt.subplots(figsize=(10,6))\n",
    "    plt.pie(data[feature].value_counts()[:Limit],labels=list(\n",
    "        data[feature].value_counts()[:Limit].index),\n",
    "        autopct ='%1.2f%%' , labeldistance = 1.1,\n",
    "            explode = [0.05 for i in range(len(data[feature].value_counts()[:Limit]))] )\n",
    "    plt.show()    "
   ]
  },
  {
   "cell_type": "code",
   "execution_count": 74,
   "id": "1ab0cb11",
   "metadata": {
    "scrolled": false
   },
   "outputs": [
    {
     "data": {
      "text/html": [
       "<div>\n",
       "<style scoped>\n",
       "    .dataframe tbody tr th:only-of-type {\n",
       "        vertical-align: middle;\n",
       "    }\n",
       "\n",
       "    .dataframe tbody tr th {\n",
       "        vertical-align: top;\n",
       "    }\n",
       "\n",
       "    .dataframe thead th {\n",
       "        text-align: right;\n",
       "    }\n",
       "</style>\n",
       "<table border=\"1\" class=\"dataframe\">\n",
       "  <thead>\n",
       "    <tr style=\"text-align: right;\">\n",
       "      <th></th>\n",
       "      <th>fare_amount</th>\n",
       "      <th>pickup_datetime</th>\n",
       "      <th>pickup_longitude</th>\n",
       "      <th>pickup_latitude</th>\n",
       "      <th>dropoff_longitude</th>\n",
       "      <th>dropoff_latitude</th>\n",
       "      <th>passenger_count</th>\n",
       "      <th>Year</th>\n",
       "      <th>Month</th>\n",
       "      <th>Month_Name</th>\n",
       "      <th>Week</th>\n",
       "      <th>Day</th>\n",
       "      <th>Week_Day</th>\n",
       "      <th>Day_Name</th>\n",
       "      <th>Hour</th>\n",
       "      <th>Minute</th>\n",
       "      <th>Season</th>\n",
       "      <th>Period</th>\n",
       "      <th>fare_amountLevel</th>\n",
       "      <th>Destination_Km</th>\n",
       "      <th>Day_NameEnc</th>\n",
       "      <th>SeasonEnc</th>\n",
       "      <th>PeriodEnc</th>\n",
       "    </tr>\n",
       "  </thead>\n",
       "  <tbody>\n",
       "    <tr>\n",
       "      <th>0</th>\n",
       "      <td>7.5</td>\n",
       "      <td>2015-05-07 19:52:06</td>\n",
       "      <td>-73.999817</td>\n",
       "      <td>40.738354</td>\n",
       "      <td>-73.999512</td>\n",
       "      <td>40.723217</td>\n",
       "      <td>1</td>\n",
       "      <td>2015</td>\n",
       "      <td>5</td>\n",
       "      <td>May</td>\n",
       "      <td>19</td>\n",
       "      <td>7</td>\n",
       "      <td>3</td>\n",
       "      <td>Thursday</td>\n",
       "      <td>19</td>\n",
       "      <td>52</td>\n",
       "      <td>Spring</td>\n",
       "      <td>evening</td>\n",
       "      <td>Cheap</td>\n",
       "      <td>1.683325</td>\n",
       "      <td>4</td>\n",
       "      <td>1</td>\n",
       "      <td>1</td>\n",
       "    </tr>\n",
       "    <tr>\n",
       "      <th>1</th>\n",
       "      <td>7.7</td>\n",
       "      <td>2009-07-17 20:04:56</td>\n",
       "      <td>-73.994355</td>\n",
       "      <td>40.728225</td>\n",
       "      <td>-73.994710</td>\n",
       "      <td>40.750325</td>\n",
       "      <td>1</td>\n",
       "      <td>2009</td>\n",
       "      <td>7</td>\n",
       "      <td>July</td>\n",
       "      <td>29</td>\n",
       "      <td>17</td>\n",
       "      <td>4</td>\n",
       "      <td>Friday</td>\n",
       "      <td>20</td>\n",
       "      <td>4</td>\n",
       "      <td>Summer</td>\n",
       "      <td>evening</td>\n",
       "      <td>Cheap</td>\n",
       "      <td>2.457593</td>\n",
       "      <td>0</td>\n",
       "      <td>2</td>\n",
       "      <td>1</td>\n",
       "    </tr>\n",
       "    <tr>\n",
       "      <th>2</th>\n",
       "      <td>12.9</td>\n",
       "      <td>2009-08-24 21:45:00</td>\n",
       "      <td>-74.005043</td>\n",
       "      <td>40.740770</td>\n",
       "      <td>-73.962565</td>\n",
       "      <td>40.772647</td>\n",
       "      <td>1</td>\n",
       "      <td>2009</td>\n",
       "      <td>8</td>\n",
       "      <td>August</td>\n",
       "      <td>35</td>\n",
       "      <td>24</td>\n",
       "      <td>0</td>\n",
       "      <td>Monday</td>\n",
       "      <td>21</td>\n",
       "      <td>45</td>\n",
       "      <td>Summer</td>\n",
       "      <td>evening</td>\n",
       "      <td>Cheap</td>\n",
       "      <td>5.036384</td>\n",
       "      <td>1</td>\n",
       "      <td>2</td>\n",
       "      <td>1</td>\n",
       "    </tr>\n",
       "    <tr>\n",
       "      <th>3</th>\n",
       "      <td>5.3</td>\n",
       "      <td>2009-06-26 08:22:21</td>\n",
       "      <td>-73.976124</td>\n",
       "      <td>40.790844</td>\n",
       "      <td>-73.965316</td>\n",
       "      <td>40.803349</td>\n",
       "      <td>3</td>\n",
       "      <td>2009</td>\n",
       "      <td>6</td>\n",
       "      <td>June</td>\n",
       "      <td>26</td>\n",
       "      <td>26</td>\n",
       "      <td>4</td>\n",
       "      <td>Friday</td>\n",
       "      <td>8</td>\n",
       "      <td>22</td>\n",
       "      <td>Summer</td>\n",
       "      <td>morning</td>\n",
       "      <td>Cheap</td>\n",
       "      <td>1.661686</td>\n",
       "      <td>0</td>\n",
       "      <td>2</td>\n",
       "      <td>2</td>\n",
       "    </tr>\n",
       "    <tr>\n",
       "      <th>4</th>\n",
       "      <td>16.0</td>\n",
       "      <td>2014-08-28 17:47:00</td>\n",
       "      <td>-73.925023</td>\n",
       "      <td>40.744085</td>\n",
       "      <td>-73.973082</td>\n",
       "      <td>40.761247</td>\n",
       "      <td>5</td>\n",
       "      <td>2014</td>\n",
       "      <td>8</td>\n",
       "      <td>August</td>\n",
       "      <td>35</td>\n",
       "      <td>28</td>\n",
       "      <td>3</td>\n",
       "      <td>Thursday</td>\n",
       "      <td>17</td>\n",
       "      <td>47</td>\n",
       "      <td>Summer</td>\n",
       "      <td>afternoon</td>\n",
       "      <td>Cheap</td>\n",
       "      <td>4.475456</td>\n",
       "      <td>4</td>\n",
       "      <td>2</td>\n",
       "      <td>0</td>\n",
       "    </tr>\n",
       "  </tbody>\n",
       "</table>\n",
       "</div>"
      ],
      "text/plain": [
       "   fare_amount     pickup_datetime  pickup_longitude  pickup_latitude  \\\n",
       "0          7.5 2015-05-07 19:52:06        -73.999817        40.738354   \n",
       "1          7.7 2009-07-17 20:04:56        -73.994355        40.728225   \n",
       "2         12.9 2009-08-24 21:45:00        -74.005043        40.740770   \n",
       "3          5.3 2009-06-26 08:22:21        -73.976124        40.790844   \n",
       "4         16.0 2014-08-28 17:47:00        -73.925023        40.744085   \n",
       "\n",
       "   dropoff_longitude  dropoff_latitude  passenger_count  Year  Month  \\\n",
       "0         -73.999512         40.723217                1  2015      5   \n",
       "1         -73.994710         40.750325                1  2009      7   \n",
       "2         -73.962565         40.772647                1  2009      8   \n",
       "3         -73.965316         40.803349                3  2009      6   \n",
       "4         -73.973082         40.761247                5  2014      8   \n",
       "\n",
       "  Month_Name  Week  Day  Week_Day  Day_Name  Hour  Minute  Season     Period  \\\n",
       "0        May    19    7         3  Thursday    19      52  Spring    evening   \n",
       "1       July    29   17         4    Friday    20       4  Summer    evening   \n",
       "2     August    35   24         0    Monday    21      45  Summer    evening   \n",
       "3       June    26   26         4    Friday     8      22  Summer    morning   \n",
       "4     August    35   28         3  Thursday    17      47  Summer  afternoon   \n",
       "\n",
       "  fare_amountLevel  Destination_Km  Day_NameEnc  SeasonEnc  PeriodEnc  \n",
       "0            Cheap        1.683325            4          1          1  \n",
       "1            Cheap        2.457593            0          2          1  \n",
       "2            Cheap        5.036384            1          2          1  \n",
       "3            Cheap        1.661686            0          2          2  \n",
       "4            Cheap        4.475456            4          2          0  "
      ]
     },
     "execution_count": 74,
     "metadata": {},
     "output_type": "execute_result"
    }
   ],
   "source": [
    "df.head()"
   ]
  },
  {
   "cell_type": "code",
   "execution_count": 79,
   "id": "56cadeb4",
   "metadata": {},
   "outputs": [
    {
     "data": {
      "image/png": "[encoded data removed]",
      "text/plain": [
       "<Figure size 720x432 with 1 Axes>"
      ]
     },
     "metadata": {},
     "output_type": "display_data"
    }
   ],
   "source": [
    "Pie(df,'Period')"
   ]
  },
  {
   "cell_type": "code",
   "execution_count": 81,
   "id": "cce9e7a1",
   "metadata": {},
   "outputs": [
    {
     "data": {
      "image/png": "[encoded data removed]",
      "text/plain": [
       "<Figure size 720x432 with 1 Axes>"
      ]
     },
     "metadata": {},
     "output_type": "display_data"
    }
   ],
   "source": [
    "Pie(df,'Season')"
   ]
  },
  {
   "cell_type": "code",
   "execution_count": 82,
   "id": "ddbd661b",
   "metadata": {},
   "outputs": [
    {
     "data": {
      "image/png": "[encoded data removed]",
      "text/plain": [
       "<Figure size 720x432 with 1 Axes>"
      ]
     },
     "metadata": {},
     "output_type": "display_data"
    }
   ],
   "source": [
    "Pie(df,'Day_Name')"
   ]
  },
  {
   "cell_type": "code",
   "execution_count": 83,
   "id": "c7821caf",
   "metadata": {},
   "outputs": [
    {
     "data": {
      "image/png": "[encoded data removed]",
      "text/plain": [
       "<Figure size 720x432 with 1 Axes>"
      ]
     },
     "metadata": {},
     "output_type": "display_data"
    }
   ],
   "source": [
    "Pie(df,'Month_Name')"
   ]
  },
  {
   "cell_type": "code",
   "execution_count": 76,
   "id": "214b0c96",
   "metadata": {},
   "outputs": [
    {
     "data": {
      "image/png": "[encoded data removed]",
      "text/plain": [
       "<Figure size 720x432 with 1 Axes>"
      ]
     },
     "metadata": {},
     "output_type": "display_data"
    }
   ],
   "source": [
    "Pie(df,'Year')"
   ]
  },
  {
   "cell_type": "code",
   "execution_count": 75,
   "id": "d2a2d39d",
   "metadata": {},
   "outputs": [
    {
     "data": {
      "image/png": "[encoded data removed]",
      "text/plain": [
       "<Figure size 720x432 with 1 Axes>"
      ]
     },
     "metadata": {},
     "output_type": "display_data"
    }
   ],
   "source": [
    "Pie(df,'passenger_count')"
   ]
  },
  {
   "cell_type": "code",
   "execution_count": 73,
   "id": "916cf660",
   "metadata": {},
   "outputs": [
    {
     "data": {
      "image/png": "[encoded data removed]",
      "text/plain": [
       "<Figure size 720x432 with 1 Axes>"
      ]
     },
     "metadata": {},
     "output_type": "display_data"
    }
   ],
   "source": [
    "Pie(df,'fare_amountLevel')"
   ]
  },
  {
   "cell_type": "code",
   "execution_count": null,
   "id": "53ff655a",
   "metadata": {},
   "outputs": [],
   "source": []
  },
  {
   "cell_type": "markdown",
   "id": "c822f4bd",
   "metadata": {},
   "source": [
    "# Prepare for model"
   ]
  },
  {
   "cell_type": "code",
   "execution_count": 52,
   "id": "b4643f31",
   "metadata": {
    "scrolled": false
   },
   "outputs": [
    {
     "data": {
      "text/html": [
       "<div>\n",
       "<style scoped>\n",
       "    .dataframe tbody tr th:only-of-type {\n",
       "        vertical-align: middle;\n",
       "    }\n",
       "\n",
       "    .dataframe tbody tr th {\n",
       "        vertical-align: top;\n",
       "    }\n",
       "\n",
       "    .dataframe thead th {\n",
       "        text-align: right;\n",
       "    }\n",
       "</style>\n",
       "<table border=\"1\" class=\"dataframe\">\n",
       "  <thead>\n",
       "    <tr style=\"text-align: right;\">\n",
       "      <th></th>\n",
       "      <th>fare_amount</th>\n",
       "      <th>pickup_datetime</th>\n",
       "      <th>pickup_longitude</th>\n",
       "      <th>pickup_latitude</th>\n",
       "      <th>dropoff_longitude</th>\n",
       "      <th>dropoff_latitude</th>\n",
       "      <th>passenger_count</th>\n",
       "      <th>Year</th>\n",
       "      <th>Month</th>\n",
       "      <th>Month_Name</th>\n",
       "      <th>Week</th>\n",
       "      <th>Day</th>\n",
       "      <th>Week_Day</th>\n",
       "      <th>Day_Name</th>\n",
       "      <th>Hour</th>\n",
       "      <th>Minute</th>\n",
       "      <th>Season</th>\n",
       "      <th>Period</th>\n",
       "      <th>fare_amountLevel</th>\n",
       "      <th>Destination_Km</th>\n",
       "    </tr>\n",
       "  </thead>\n",
       "  <tbody>\n",
       "    <tr>\n",
       "      <th>0</th>\n",
       "      <td>7.5</td>\n",
       "      <td>2015-05-07 19:52:06</td>\n",
       "      <td>-73.999817</td>\n",
       "      <td>40.738354</td>\n",
       "      <td>-73.999512</td>\n",
       "      <td>40.723217</td>\n",
       "      <td>1</td>\n",
       "      <td>2015</td>\n",
       "      <td>5</td>\n",
       "      <td>May</td>\n",
       "      <td>19</td>\n",
       "      <td>7</td>\n",
       "      <td>3</td>\n",
       "      <td>Thursday</td>\n",
       "      <td>19</td>\n",
       "      <td>52</td>\n",
       "      <td>Spring</td>\n",
       "      <td>evening</td>\n",
       "      <td>Cheap</td>\n",
       "      <td>1.683325</td>\n",
       "    </tr>\n",
       "    <tr>\n",
       "      <th>1</th>\n",
       "      <td>7.7</td>\n",
       "      <td>2009-07-17 20:04:56</td>\n",
       "      <td>-73.994355</td>\n",
       "      <td>40.728225</td>\n",
       "      <td>-73.994710</td>\n",
       "      <td>40.750325</td>\n",
       "      <td>1</td>\n",
       "      <td>2009</td>\n",
       "      <td>7</td>\n",
       "      <td>July</td>\n",
       "      <td>29</td>\n",
       "      <td>17</td>\n",
       "      <td>4</td>\n",
       "      <td>Friday</td>\n",
       "      <td>20</td>\n",
       "      <td>4</td>\n",
       "      <td>Summer</td>\n",
       "      <td>evening</td>\n",
       "      <td>Cheap</td>\n",
       "      <td>2.457593</td>\n",
       "    </tr>\n",
       "    <tr>\n",
       "      <th>2</th>\n",
       "      <td>12.9</td>\n",
       "      <td>2009-08-24 21:45:00</td>\n",
       "      <td>-74.005043</td>\n",
       "      <td>40.740770</td>\n",
       "      <td>-73.962565</td>\n",
       "      <td>40.772647</td>\n",
       "      <td>1</td>\n",
       "      <td>2009</td>\n",
       "      <td>8</td>\n",
       "      <td>August</td>\n",
       "      <td>35</td>\n",
       "      <td>24</td>\n",
       "      <td>0</td>\n",
       "      <td>Monday</td>\n",
       "      <td>21</td>\n",
       "      <td>45</td>\n",
       "      <td>Summer</td>\n",
       "      <td>evening</td>\n",
       "      <td>Cheap</td>\n",
       "      <td>5.036384</td>\n",
       "    </tr>\n",
       "    <tr>\n",
       "      <th>3</th>\n",
       "      <td>5.3</td>\n",
       "      <td>2009-06-26 08:22:21</td>\n",
       "      <td>-73.976124</td>\n",
       "      <td>40.790844</td>\n",
       "      <td>-73.965316</td>\n",
       "      <td>40.803349</td>\n",
       "      <td>3</td>\n",
       "      <td>2009</td>\n",
       "      <td>6</td>\n",
       "      <td>June</td>\n",
       "      <td>26</td>\n",
       "      <td>26</td>\n",
       "      <td>4</td>\n",
       "      <td>Friday</td>\n",
       "      <td>8</td>\n",
       "      <td>22</td>\n",
       "      <td>Summer</td>\n",
       "      <td>morning</td>\n",
       "      <td>Cheap</td>\n",
       "      <td>1.661686</td>\n",
       "    </tr>\n",
       "    <tr>\n",
       "      <th>4</th>\n",
       "      <td>16.0</td>\n",
       "      <td>2014-08-28 17:47:00</td>\n",
       "      <td>-73.925023</td>\n",
       "      <td>40.744085</td>\n",
       "      <td>-73.973082</td>\n",
       "      <td>40.761247</td>\n",
       "      <td>5</td>\n",
       "      <td>2014</td>\n",
       "      <td>8</td>\n",
       "      <td>August</td>\n",
       "      <td>35</td>\n",
       "      <td>28</td>\n",
       "      <td>3</td>\n",
       "      <td>Thursday</td>\n",
       "      <td>17</td>\n",
       "      <td>47</td>\n",
       "      <td>Summer</td>\n",
       "      <td>afternoon</td>\n",
       "      <td>Cheap</td>\n",
       "      <td>4.475456</td>\n",
       "    </tr>\n",
       "  </tbody>\n",
       "</table>\n",
       "</div>"
      ],
      "text/plain": [
       "   fare_amount     pickup_datetime  pickup_longitude  pickup_latitude  \\\n",
       "0          7.5 2015-05-07 19:52:06        -73.999817        40.738354   \n",
       "1          7.7 2009-07-17 20:04:56        -73.994355        40.728225   \n",
       "2         12.9 2009-08-24 21:45:00        -74.005043        40.740770   \n",
       "3          5.3 2009-06-26 08:22:21        -73.976124        40.790844   \n",
       "4         16.0 2014-08-28 17:47:00        -73.925023        40.744085   \n",
       "\n",
       "   dropoff_longitude  dropoff_latitude  passenger_count  Year  Month  \\\n",
       "0         -73.999512         40.723217                1  2015      5   \n",
       "1         -73.994710         40.750325                1  2009      7   \n",
       "2         -73.962565         40.772647                1  2009      8   \n",
       "3         -73.965316         40.803349                3  2009      6   \n",
       "4         -73.973082         40.761247                5  2014      8   \n",
       "\n",
       "  Month_Name  Week  Day  Week_Day  Day_Name  Hour  Minute  Season     Period  \\\n",
       "0        May    19    7         3  Thursday    19      52  Spring    evening   \n",
       "1       July    29   17         4    Friday    20       4  Summer    evening   \n",
       "2     August    35   24         0    Monday    21      45  Summer    evening   \n",
       "3       June    26   26         4    Friday     8      22  Summer    morning   \n",
       "4     August    35   28         3  Thursday    17      47  Summer  afternoon   \n",
       "\n",
       "  fare_amountLevel  Destination_Km  \n",
       "0            Cheap        1.683325  \n",
       "1            Cheap        2.457593  \n",
       "2            Cheap        5.036384  \n",
       "3            Cheap        1.661686  \n",
       "4            Cheap        4.475456  "
      ]
     },
     "execution_count": 52,
     "metadata": {},
     "output_type": "execute_result"
    }
   ],
   "source": [
    "df.head()"
   ]
  },
  {
   "cell_type": "code",
   "execution_count": 53,
   "id": "94005362",
   "metadata": {},
   "outputs": [
    {
     "data": {
      "text/html": [
       "<div>\n",
       "<style scoped>\n",
       "    .dataframe tbody tr th:only-of-type {\n",
       "        vertical-align: middle;\n",
       "    }\n",
       "\n",
       "    .dataframe tbody tr th {\n",
       "        vertical-align: top;\n",
       "    }\n",
       "\n",
       "    .dataframe thead th {\n",
       "        text-align: right;\n",
       "    }\n",
       "</style>\n",
       "<table border=\"1\" class=\"dataframe\">\n",
       "  <thead>\n",
       "    <tr style=\"text-align: right;\">\n",
       "      <th></th>\n",
       "      <th>fare_amount</th>\n",
       "      <th>pickup_datetime</th>\n",
       "      <th>pickup_longitude</th>\n",
       "      <th>pickup_latitude</th>\n",
       "      <th>dropoff_longitude</th>\n",
       "      <th>dropoff_latitude</th>\n",
       "      <th>passenger_count</th>\n",
       "      <th>Year</th>\n",
       "      <th>Month</th>\n",
       "      <th>Month_Name</th>\n",
       "      <th>Week</th>\n",
       "      <th>Day</th>\n",
       "      <th>Week_Day</th>\n",
       "      <th>Day_Name</th>\n",
       "      <th>Hour</th>\n",
       "      <th>Minute</th>\n",
       "      <th>Season</th>\n",
       "      <th>Period</th>\n",
       "      <th>fare_amountLevel</th>\n",
       "      <th>Destination_Km</th>\n",
       "    </tr>\n",
       "  </thead>\n",
       "  <tbody>\n",
       "    <tr>\n",
       "      <th>48</th>\n",
       "      <td>56.80</td>\n",
       "      <td>2013-01-03 22:24:41</td>\n",
       "      <td>-73.993498</td>\n",
       "      <td>40.764686</td>\n",
       "      <td>-73.993498</td>\n",
       "      <td>40.764686</td>\n",
       "      <td>1</td>\n",
       "      <td>2013</td>\n",
       "      <td>1</td>\n",
       "      <td>January</td>\n",
       "      <td>1</td>\n",
       "      <td>3</td>\n",
       "      <td>3</td>\n",
       "      <td>Thursday</td>\n",
       "      <td>22</td>\n",
       "      <td>24</td>\n",
       "      <td>Winter</td>\n",
       "      <td>evening</td>\n",
       "      <td>Expensive</td>\n",
       "      <td>0.000000</td>\n",
       "    </tr>\n",
       "    <tr>\n",
       "      <th>401</th>\n",
       "      <td>57.33</td>\n",
       "      <td>2014-06-27 14:12:49</td>\n",
       "      <td>-73.776736</td>\n",
       "      <td>40.645518</td>\n",
       "      <td>-73.994633</td>\n",
       "      <td>40.719009</td>\n",
       "      <td>1</td>\n",
       "      <td>2014</td>\n",
       "      <td>6</td>\n",
       "      <td>June</td>\n",
       "      <td>26</td>\n",
       "      <td>27</td>\n",
       "      <td>4</td>\n",
       "      <td>Friday</td>\n",
       "      <td>14</td>\n",
       "      <td>12</td>\n",
       "      <td>Summer</td>\n",
       "      <td>afternoon</td>\n",
       "      <td>Expensive</td>\n",
       "      <td>20.109066</td>\n",
       "    </tr>\n",
       "    <tr>\n",
       "      <th>570</th>\n",
       "      <td>57.33</td>\n",
       "      <td>2013-09-23 09:07:18</td>\n",
       "      <td>-73.991220</td>\n",
       "      <td>40.754664</td>\n",
       "      <td>-73.776311</td>\n",
       "      <td>40.645212</td>\n",
       "      <td>1</td>\n",
       "      <td>2013</td>\n",
       "      <td>9</td>\n",
       "      <td>September</td>\n",
       "      <td>39</td>\n",
       "      <td>23</td>\n",
       "      <td>0</td>\n",
       "      <td>Monday</td>\n",
       "      <td>9</td>\n",
       "      <td>7</td>\n",
       "      <td>Autumn</td>\n",
       "      <td>morning</td>\n",
       "      <td>Expensive</td>\n",
       "      <td>21.825389</td>\n",
       "    </tr>\n",
       "    <tr>\n",
       "      <th>610</th>\n",
       "      <td>57.33</td>\n",
       "      <td>2013-09-16 16:02:08</td>\n",
       "      <td>-73.992281</td>\n",
       "      <td>40.765674</td>\n",
       "      <td>-73.789631</td>\n",
       "      <td>40.647025</td>\n",
       "      <td>1</td>\n",
       "      <td>2013</td>\n",
       "      <td>9</td>\n",
       "      <td>September</td>\n",
       "      <td>38</td>\n",
       "      <td>16</td>\n",
       "      <td>0</td>\n",
       "      <td>Monday</td>\n",
       "      <td>16</td>\n",
       "      <td>2</td>\n",
       "      <td>Autumn</td>\n",
       "      <td>afternoon</td>\n",
       "      <td>Expensive</td>\n",
       "      <td>21.583606</td>\n",
       "    </tr>\n",
       "    <tr>\n",
       "      <th>747</th>\n",
       "      <td>52.00</td>\n",
       "      <td>2013-01-26 14:20:18</td>\n",
       "      <td>-73.993418</td>\n",
       "      <td>40.720149</td>\n",
       "      <td>-73.789199</td>\n",
       "      <td>40.641738</td>\n",
       "      <td>1</td>\n",
       "      <td>2013</td>\n",
       "      <td>1</td>\n",
       "      <td>January</td>\n",
       "      <td>4</td>\n",
       "      <td>26</td>\n",
       "      <td>5</td>\n",
       "      <td>Saturday</td>\n",
       "      <td>14</td>\n",
       "      <td>20</td>\n",
       "      <td>Winter</td>\n",
       "      <td>afternoon</td>\n",
       "      <td>Expensive</td>\n",
       "      <td>19.302164</td>\n",
       "    </tr>\n",
       "    <tr>\n",
       "      <th>...</th>\n",
       "      <td>...</td>\n",
       "      <td>...</td>\n",
       "      <td>...</td>\n",
       "      <td>...</td>\n",
       "      <td>...</td>\n",
       "      <td>...</td>\n",
       "      <td>...</td>\n",
       "      <td>...</td>\n",
       "      <td>...</td>\n",
       "      <td>...</td>\n",
       "      <td>...</td>\n",
       "      <td>...</td>\n",
       "      <td>...</td>\n",
       "      <td>...</td>\n",
       "      <td>...</td>\n",
       "      <td>...</td>\n",
       "      <td>...</td>\n",
       "      <td>...</td>\n",
       "      <td>...</td>\n",
       "      <td>...</td>\n",
       "    </tr>\n",
       "    <tr>\n",
       "      <th>199645</th>\n",
       "      <td>52.00</td>\n",
       "      <td>2013-09-20 14:15:00</td>\n",
       "      <td>0.000000</td>\n",
       "      <td>0.000000</td>\n",
       "      <td>0.000000</td>\n",
       "      <td>0.000000</td>\n",
       "      <td>1</td>\n",
       "      <td>2013</td>\n",
       "      <td>9</td>\n",
       "      <td>September</td>\n",
       "      <td>38</td>\n",
       "      <td>20</td>\n",
       "      <td>4</td>\n",
       "      <td>Friday</td>\n",
       "      <td>14</td>\n",
       "      <td>15</td>\n",
       "      <td>Autumn</td>\n",
       "      <td>afternoon</td>\n",
       "      <td>Expensive</td>\n",
       "      <td>0.000000</td>\n",
       "    </tr>\n",
       "    <tr>\n",
       "      <th>199651</th>\n",
       "      <td>53.30</td>\n",
       "      <td>2012-01-27 16:36:00</td>\n",
       "      <td>-73.953060</td>\n",
       "      <td>40.774205</td>\n",
       "      <td>-73.951238</td>\n",
       "      <td>40.773545</td>\n",
       "      <td>5</td>\n",
       "      <td>2012</td>\n",
       "      <td>1</td>\n",
       "      <td>January</td>\n",
       "      <td>4</td>\n",
       "      <td>27</td>\n",
       "      <td>4</td>\n",
       "      <td>Friday</td>\n",
       "      <td>16</td>\n",
       "      <td>36</td>\n",
       "      <td>Winter</td>\n",
       "      <td>afternoon</td>\n",
       "      <td>Expensive</td>\n",
       "      <td>0.170074</td>\n",
       "    </tr>\n",
       "    <tr>\n",
       "      <th>199686</th>\n",
       "      <td>57.33</td>\n",
       "      <td>2014-07-25 21:46:01</td>\n",
       "      <td>-73.784489</td>\n",
       "      <td>40.648543</td>\n",
       "      <td>-73.984224</td>\n",
       "      <td>40.727088</td>\n",
       "      <td>1</td>\n",
       "      <td>2014</td>\n",
       "      <td>7</td>\n",
       "      <td>July</td>\n",
       "      <td>30</td>\n",
       "      <td>25</td>\n",
       "      <td>4</td>\n",
       "      <td>Friday</td>\n",
       "      <td>21</td>\n",
       "      <td>46</td>\n",
       "      <td>Summer</td>\n",
       "      <td>evening</td>\n",
       "      <td>Expensive</td>\n",
       "      <td>18.970906</td>\n",
       "    </tr>\n",
       "    <tr>\n",
       "      <th>199890</th>\n",
       "      <td>57.33</td>\n",
       "      <td>2014-11-14 05:25:00</td>\n",
       "      <td>-73.776778</td>\n",
       "      <td>40.645427</td>\n",
       "      <td>-73.948572</td>\n",
       "      <td>40.789107</td>\n",
       "      <td>5</td>\n",
       "      <td>2014</td>\n",
       "      <td>11</td>\n",
       "      <td>November</td>\n",
       "      <td>46</td>\n",
       "      <td>14</td>\n",
       "      <td>4</td>\n",
       "      <td>Friday</td>\n",
       "      <td>5</td>\n",
       "      <td>25</td>\n",
       "      <td>Autumn</td>\n",
       "      <td>morning</td>\n",
       "      <td>Expensive</td>\n",
       "      <td>21.561049</td>\n",
       "    </tr>\n",
       "    <tr>\n",
       "      <th>199958</th>\n",
       "      <td>57.33</td>\n",
       "      <td>2014-08-06 11:06:06</td>\n",
       "      <td>-73.969204</td>\n",
       "      <td>40.754771</td>\n",
       "      <td>-73.790351</td>\n",
       "      <td>40.643802</td>\n",
       "      <td>1</td>\n",
       "      <td>2014</td>\n",
       "      <td>8</td>\n",
       "      <td>August</td>\n",
       "      <td>32</td>\n",
       "      <td>6</td>\n",
       "      <td>2</td>\n",
       "      <td>Wednesday</td>\n",
       "      <td>11</td>\n",
       "      <td>6</td>\n",
       "      <td>Summer</td>\n",
       "      <td>morning</td>\n",
       "      <td>Expensive</td>\n",
       "      <td>19.483074</td>\n",
       "    </tr>\n",
       "  </tbody>\n",
       "</table>\n",
       "<p>2606 rows × 20 columns</p>\n",
       "</div>"
      ],
      "text/plain": [
       "        fare_amount     pickup_datetime  pickup_longitude  pickup_latitude  \\\n",
       "48            56.80 2013-01-03 22:24:41        -73.993498        40.764686   \n",
       "401           57.33 2014-06-27 14:12:49        -73.776736        40.645518   \n",
       "570           57.33 2013-09-23 09:07:18        -73.991220        40.754664   \n",
       "610           57.33 2013-09-16 16:02:08        -73.992281        40.765674   \n",
       "747           52.00 2013-01-26 14:20:18        -73.993418        40.720149   \n",
       "...             ...                 ...               ...              ...   \n",
       "199645        52.00 2013-09-20 14:15:00          0.000000         0.000000   \n",
       "199651        53.30 2012-01-27 16:36:00        -73.953060        40.774205   \n",
       "199686        57.33 2014-07-25 21:46:01        -73.784489        40.648543   \n",
       "199890        57.33 2014-11-14 05:25:00        -73.776778        40.645427   \n",
       "199958        57.33 2014-08-06 11:06:06        -73.969204        40.754771   \n",
       "\n",
       "        dropoff_longitude  dropoff_latitude  passenger_count  Year  Month  \\\n",
       "48             -73.993498         40.764686                1  2013      1   \n",
       "401            -73.994633         40.719009                1  2014      6   \n",
       "570            -73.776311         40.645212                1  2013      9   \n",
       "610            -73.789631         40.647025                1  2013      9   \n",
       "747            -73.789199         40.641738                1  2013      1   \n",
       "...                   ...               ...              ...   ...    ...   \n",
       "199645           0.000000          0.000000                1  2013      9   \n",
       "199651         -73.951238         40.773545                5  2012      1   \n",
       "199686         -73.984224         40.727088                1  2014      7   \n",
       "199890         -73.948572         40.789107                5  2014     11   \n",
       "199958         -73.790351         40.643802                1  2014      8   \n",
       "\n",
       "       Month_Name  Week  Day  Week_Day   Day_Name  Hour  Minute  Season  \\\n",
       "48        January     1    3         3   Thursday    22      24  Winter   \n",
       "401          June    26   27         4     Friday    14      12  Summer   \n",
       "570     September    39   23         0     Monday     9       7  Autumn   \n",
       "610     September    38   16         0     Monday    16       2  Autumn   \n",
       "747       January     4   26         5   Saturday    14      20  Winter   \n",
       "...           ...   ...  ...       ...        ...   ...     ...     ...   \n",
       "199645  September    38   20         4     Friday    14      15  Autumn   \n",
       "199651    January     4   27         4     Friday    16      36  Winter   \n",
       "199686       July    30   25         4     Friday    21      46  Summer   \n",
       "199890   November    46   14         4     Friday     5      25  Autumn   \n",
       "199958     August    32    6         2  Wednesday    11       6  Summer   \n",
       "\n",
       "           Period fare_amountLevel  Destination_Km  \n",
       "48        evening        Expensive        0.000000  \n",
       "401     afternoon        Expensive       20.109066  \n",
       "570       morning        Expensive       21.825389  \n",
       "610     afternoon        Expensive       21.583606  \n",
       "747     afternoon        Expensive       19.302164  \n",
       "...           ...              ...             ...  \n",
       "199645  afternoon        Expensive        0.000000  \n",
       "199651  afternoon        Expensive        0.170074  \n",
       "199686    evening        Expensive       18.970906  \n",
       "199890    morning        Expensive       21.561049  \n",
       "199958    morning        Expensive       19.483074  \n",
       "\n",
       "[2606 rows x 20 columns]"
      ]
     },
     "execution_count": 53,
     "metadata": {},
     "output_type": "execute_result"
    }
   ],
   "source": [
    "df[df['fare_amount'] > 50]"
   ]
  },
  {
   "cell_type": "code",
   "execution_count": 54,
   "id": "97553cce",
   "metadata": {},
   "outputs": [],
   "source": [
    "Day_NameEnc,SeasonEnc,PeriodEnc,fare_amountLevelEnc = LabelEncoder(),LabelEncoder(),LabelEncoder(),LabelEncoder()"
   ]
  },
  {
   "cell_type": "code",
   "execution_count": 55,
   "id": "9fefae07",
   "metadata": {},
   "outputs": [],
   "source": [
    "def ApplyEncoder(Encoder,OriginalColumn) : \n",
    "    global df\n",
    "    Encoder.fit(df[OriginalColumn])\n",
    "    return Encoder.transform(df[OriginalColumn])"
   ]
  },
  {
   "cell_type": "code",
   "execution_count": 56,
   "id": "3a7f4968",
   "metadata": {},
   "outputs": [],
   "source": [
    "df['Day_NameEnc'] = ApplyEncoder(Day_NameEnc,'Day_Name')\n",
    "df['SeasonEnc'] = ApplyEncoder(SeasonEnc,'Season')\n",
    "df['PeriodEnc'] = ApplyEncoder(PeriodEnc,'Period')\n",
    "#df['fare_amountLevelEnc'] = ApplyEncoder(fare_amountLevelEnc,'fare_amountLevel')"
   ]
  },
  {
   "cell_type": "markdown",
   "id": "f7860fba",
   "metadata": {},
   "source": [
    "# splitting data"
   ]
  },
  {
   "cell_type": "code",
   "execution_count": 57,
   "id": "7d5e274a",
   "metadata": {},
   "outputs": [
    {
     "data": {
      "text/plain": [
       "Index(['fare_amount', 'pickup_datetime', 'pickup_longitude', 'pickup_latitude',\n",
       "       'dropoff_longitude', 'dropoff_latitude', 'passenger_count', 'Year',\n",
       "       'Month', 'Month_Name', 'Week', 'Day', 'Week_Day', 'Day_Name', 'Hour',\n",
       "       'Minute', 'Season', 'Period', 'fare_amountLevel', 'Destination_Km',\n",
       "       'Day_NameEnc', 'SeasonEnc', 'PeriodEnc'],\n",
       "      dtype='object')"
      ]
     },
     "execution_count": 57,
     "metadata": {},
     "output_type": "execute_result"
    }
   ],
   "source": [
    "df.columns"
   ]
  },
  {
   "cell_type": "code",
   "execution_count": 58,
   "id": "303b3faf",
   "metadata": {},
   "outputs": [],
   "source": [
    "x = df[[ 'passenger_count', 'Year',\n",
    "       'Month', 'Week', 'Day', 'Week_Day', 'Hour',\n",
    "       'Minute', 'Destination_Km',\n",
    "       'Day_NameEnc', 'SeasonEnc', 'PeriodEnc']]\n",
    "y=df['fare_amount']"
   ]
  },
  {
   "cell_type": "code",
   "execution_count": 59,
   "id": "19f3fd81",
   "metadata": {
    "scrolled": true
   },
   "outputs": [
    {
     "data": {
      "text/plain": [
       "((189977, 12), (9999, 12), (189977,), (9999,))"
      ]
     },
     "execution_count": 59,
     "metadata": {},
     "output_type": "execute_result"
    }
   ],
   "source": [
    "x_train,x_test,y_train,y_test = train_test_split(x,y,test_size = 0.05 , random_state = 44 , shuffle = True)\n",
    "x_train.shape,x_test.shape,y_train.shape,y_test.shape"
   ]
  },
  {
   "cell_type": "code",
   "execution_count": 60,
   "id": "1d788edd",
   "metadata": {},
   "outputs": [],
   "source": [
    "scaler = StandardScaler()\n",
    "\n",
    "scaler.fit(x_train)\n",
    "\n",
    "x_train = scaler.transform(x_train)\n",
    "x_test = scaler.transform(x_test)"
   ]
  },
  {
   "cell_type": "code",
   "execution_count": 61,
   "id": "038c9204",
   "metadata": {},
   "outputs": [],
   "source": [
    "# models = {\n",
    "#     'LR': LinearRegression(),\n",
    "#     'DT': DecisionTreeRegressor(),\n",
    "#     'KNN': KNeighborsRegressor(),\n",
    "# #     'SVM': SVR(), \n",
    "#     'RF': RandomForestRegressor(),\n",
    "#     'XGB': XGBRegressor()\n",
    "# }\n",
    "\n",
    "# for name, model in models.items():\n",
    "#     print(f'Traing {name}...')\n",
    "#     model.fit(x_train, y_train)\n",
    "#     y_pred = model.predict(x_test)\n",
    "#     y_pred_tr = model.predict(x_train)\n",
    "#     print(f'Training RMSE: {np.sqrt(mean_squared_error(y_train, y_pred_tr))}')\n",
    "#     print(f'Training MAE: {mean_absolute_error(y_train, y_pred_tr)}')\n",
    "#     print(f'Training R2: {r2_score(y_train, y_pred_tr)}')\n",
    "#     print('++++++')\n",
    "#     print(f'Testing RMSE: {np.sqrt(mean_squared_error(y_test, y_pred))}')\n",
    "#     print(f'Testing MAE: {mean_absolute_error(y_test, y_pred)}')\n",
    "#     print(f'Testing R2: {r2_score(y_test, y_pred)}')\n",
    "#     print('-'*50)"
   ]
  },
  {
   "cell_type": "code",
   "execution_count": 62,
   "id": "efd418b1",
   "metadata": {},
   "outputs": [],
   "source": [
    "# model = XGBRegressor()\n",
    "\n",
    "\n",
    "# parameters = {'nthread':[4],\n",
    "#               'objective':['reg:linear'],\n",
    "#               'learning_rate': [.03, 0.05, .07],\n",
    "#               'max_depth': [5, 6, 7],\n",
    "#               'min_child_weight': [4],\n",
    "#               'silent': [1],\n",
    "#               'subsample': [0.7],\n",
    "#               'colsample_bytree': [0.7],\n",
    "#               'n_estimators': [400,500,600]}\n",
    "\n",
    "\n",
    "# grid_search_model = grid_search = RandomizedSearchCV(estimator=model, param_distributions=parameters,\n",
    "#                            scoring='accuracy', cv=10)\n",
    "\n",
    "# grid_search_model.fit(x, y)"
   ]
  },
  {
   "cell_type": "code",
   "execution_count": 63,
   "id": "c71e1244",
   "metadata": {},
   "outputs": [
    {
     "data": {
      "text/plain": [
       "((189977, 12), (9999, 12), (189977,), (9999,))"
      ]
     },
     "execution_count": 63,
     "metadata": {},
     "output_type": "execute_result"
    }
   ],
   "source": [
    "x = df[[ 'passenger_count', 'Year',\n",
    "       'Month', 'Week', 'Day', 'Week_Day', 'Hour',\n",
    "       'Minute', 'Destination_Km',\n",
    "       'Day_NameEnc', 'SeasonEnc', 'PeriodEnc']]\n",
    "y=df['fare_amountLevel']\n",
    "\n",
    "\n",
    "x_train,x_test,y_train,y_test = train_test_split(x,y,test_size = 0.05 , random_state = 44 , shuffle = True)\n",
    "x_train.shape,x_test.shape,y_train.shape,y_test.shape"
   ]
  },
  {
   "cell_type": "code",
   "execution_count": 64,
   "id": "9aa7dd5c",
   "metadata": {},
   "outputs": [],
   "source": [
    "# scaler = StandardScaler()\n",
    "\n",
    "# scaler.fit(x_train)\n",
    "\n",
    "# x_train = scaler.transform(x_train)\n",
    "# x_test = scaler.transform(x_test)"
   ]
  },
  {
   "cell_type": "code",
   "execution_count": 65,
   "id": "7e0bb0bb",
   "metadata": {},
   "outputs": [],
   "source": [
    "from sklearn.ensemble import RandomForestClassifier,GradientBoostingClassifier\n",
    "from sklearn.linear_model import LogisticRegression,SGDClassifier\n",
    "from sklearn.naive_bayes import GaussianNB,MultinomialNB,BernoulliNB\n",
    "from sklearn.discriminant_analysis import LinearDiscriminantAnalysis,QuadraticDiscriminantAnalysis\n",
    "from sklearn.svm import SVC\n",
    "from sklearn.tree import DecisionTreeClassifier\n",
    "from sklearn.neighbors import KNeighborsClassifier\n",
    "from sklearn.metrics import accuracy_score, confusion_matrix, precision_score, recall_score, classification_report, f1_score, fbeta_score"
   ]
  },
  {
   "cell_type": "code",
   "execution_count": 66,
   "id": "b3f4c580",
   "metadata": {},
   "outputs": [],
   "source": [
    "GaussianNBModel = GaussianNB()\n",
    "MultinomialNBModel = MultinomialNB(alpha=1.0)\n",
    "BernoulliNBModel = BernoulliNB(alpha=1.0,binarize=1)\n",
    "LogisticRegressionModel = LogisticRegression(penalty='l2',solver='sag',C=1.0,random_state=33)\n",
    "SGDClassifierModel = SGDClassifier(penalty='l2',loss='squared_loss',learning_rate='optimal',random_state=33)\n",
    "RandomForestClassifierModel = RandomForestClassifier(criterion = 'gini',n_estimators=300,max_depth=7,random_state=33) \n",
    "GBCModel = GradientBoostingClassifier(n_estimators=100,max_depth=3,random_state=33) \n",
    "QDAModel = QuadraticDiscriminantAnalysis(tol=0.0001)\n",
    "SVCModel = SVC(kernel= 'rbf',max_iter=100,C=1.0,gamma='auto')\n",
    "DecisionTreeClassifierModel = DecisionTreeClassifier(criterion='gini',max_depth=3,random_state=33)\n",
    "KNNClassifierModel = KNeighborsClassifier(n_neighbors= 5,weights ='uniform',algorithm='auto') \n",
    "\n",
    "Models = [GaussianNBModel,KNNClassifierModel,MultinomialNBModel,\n",
    "          BernoulliNBModel,LogisticRegressionModel,RandomForestClassifierModel,\n",
    "          GBCModel,SGDClassifierModel,QDAModel,SVCModel,DecisionTreeClassifierModel]"
   ]
  },
  {
   "cell_type": "code",
   "execution_count": 67,
   "id": "11128f7b",
   "metadata": {},
   "outputs": [
    {
     "name": "stdout",
     "output_type": "stream",
     "text": [
      "for Model GaussianNB\n",
      "Train Score is : 0.893692394342473\n",
      "Test Score is : 0.8917891789178918\n",
      "Classification Report is : \n",
      "               precision    recall  f1-score   support\n",
      "\n",
      "       Cheap       0.89      1.00      0.94      8929\n",
      "   Expensive       0.16      0.02      0.03       168\n",
      "      Medium       0.00      0.00      0.00       902\n",
      "\n",
      "    accuracy                           0.89      9999\n",
      "   macro avg       0.35      0.34      0.32      9999\n",
      "weighted avg       0.80      0.89      0.84      9999\n",
      "\n",
      "Precision value is  : accuracy\n",
      "Recall value is  : 0.89\n",
      "F1 Score value is  : 9999\n",
      "=================================================\n",
      "for Model KNeighborsClassifier\n",
      "Train Score is : 0.9554051279891776\n",
      "Test Score is : 0.941994199419942\n",
      "Classification Report is : \n",
      "               precision    recall  f1-score   support\n",
      "\n",
      "       Cheap       0.96      0.99      0.97      8929\n",
      "   Expensive       0.62      0.40      0.49       168\n",
      "      Medium       0.79      0.54      0.64       902\n",
      "\n",
      "    accuracy                           0.94      9999\n",
      "   macro avg       0.79      0.65      0.70      9999\n",
      "weighted avg       0.94      0.94      0.94      9999\n",
      "\n",
      "Precision value is  : accuracy\n",
      "Recall value is  : 0.94\n",
      "F1 Score value is  : 9999\n",
      "=================================================\n",
      "for Model MultinomialNB\n",
      "Train Score is : 0.8934607873584697\n",
      "Test Score is : 0.8915891589158916\n",
      "Classification Report is : \n",
      "               precision    recall  f1-score   support\n",
      "\n",
      "       Cheap       0.89      1.00      0.94      8929\n",
      "   Expensive       0.14      0.02      0.03       168\n",
      "      Medium       0.00      0.00      0.00       902\n",
      "\n",
      "    accuracy                           0.89      9999\n",
      "   macro avg       0.35      0.34      0.32      9999\n",
      "weighted avg       0.80      0.89      0.84      9999\n",
      "\n",
      "Precision value is  : accuracy\n",
      "Recall value is  : 0.89\n",
      "F1 Score value is  : 9999\n",
      "=================================================\n",
      "for Model BernoulliNB\n",
      "Train Score is : 0.8952715328697685\n",
      "Test Score is : 0.892989298929893\n",
      "Classification Report is : \n",
      "               precision    recall  f1-score   support\n",
      "\n",
      "       Cheap       0.89      1.00      0.94      8929\n",
      "   Expensive       0.00      0.00      0.00       168\n",
      "      Medium       0.00      0.00      0.00       902\n",
      "\n",
      "    accuracy                           0.89      9999\n",
      "   macro avg       0.30      0.33      0.31      9999\n",
      "weighted avg       0.80      0.89      0.84      9999\n",
      "\n",
      "Precision value is  : accuracy\n",
      "Recall value is  : 0.89\n",
      "F1 Score value is  : 9999\n",
      "=================================================\n",
      "for Model LogisticRegression\n",
      "Train Score is : 0.8952715328697685\n",
      "Test Score is : 0.892989298929893\n",
      "Classification Report is : \n",
      "               precision    recall  f1-score   support\n",
      "\n",
      "       Cheap       0.89      1.00      0.94      8929\n",
      "   Expensive       0.00      0.00      0.00       168\n",
      "      Medium       0.00      0.00      0.00       902\n",
      "\n",
      "    accuracy                           0.89      9999\n",
      "   macro avg       0.30      0.33      0.31      9999\n",
      "weighted avg       0.80      0.89      0.84      9999\n",
      "\n",
      "Precision value is  : accuracy\n",
      "Recall value is  : 0.89\n",
      "F1 Score value is  : 9999\n",
      "=================================================\n",
      "for Model RandomForestClassifier\n",
      "Train Score is : 0.9571158613937477\n",
      "Test Score is : 0.9590959095909591\n",
      "Classification Report is : \n",
      "               precision    recall  f1-score   support\n",
      "\n",
      "       Cheap       0.97      0.99      0.98      8929\n",
      "   Expensive       0.95      0.54      0.68       168\n",
      "      Medium       0.83      0.73      0.78       902\n",
      "\n",
      "    accuracy                           0.96      9999\n",
      "   macro avg       0.92      0.75      0.81      9999\n",
      "weighted avg       0.96      0.96      0.96      9999\n",
      "\n",
      "Precision value is  : accuracy\n",
      "Recall value is  : 0.96\n",
      "F1 Score value is  : 9999\n",
      "=================================================\n",
      "for Model GradientBoostingClassifier\n",
      "Train Score is : 0.9597688141196039\n",
      "Test Score is : 0.9617961796179618\n",
      "Classification Report is : \n",
      "               precision    recall  f1-score   support\n",
      "\n",
      "       Cheap       0.97      0.99      0.98      8929\n",
      "   Expensive       0.90      0.63      0.74       168\n",
      "      Medium       0.84      0.75      0.79       902\n",
      "\n",
      "    accuracy                           0.96      9999\n",
      "   macro avg       0.90      0.79      0.84      9999\n",
      "weighted avg       0.96      0.96      0.96      9999\n",
      "\n",
      "Precision value is  : accuracy\n",
      "Recall value is  : 0.96\n",
      "F1 Score value is  : 9999\n",
      "=================================================\n",
      "for Model SGDClassifier\n",
      "Train Score is : 0.013064739415824022\n",
      "Test Score is : 0.0168016801680168\n",
      "Classification Report is : \n",
      "               precision    recall  f1-score   support\n",
      "\n",
      "       Cheap       0.00      0.00      0.00      8929\n",
      "   Expensive       0.02      1.00      0.03       168\n",
      "      Medium       0.00      0.00      0.00       902\n",
      "\n",
      "    accuracy                           0.02      9999\n",
      "   macro avg       0.01      0.33      0.01      9999\n",
      "weighted avg       0.00      0.02      0.00      9999\n",
      "\n",
      "Precision value is  : accuracy\n",
      "Recall value is  : 0.02\n",
      "F1 Score value is  : 9999\n",
      "=================================================\n",
      "for Model QuadraticDiscriminantAnalysis\n",
      "Train Score is : 0.8907446690915216\n",
      "Test Score is : 0.8884888488848884\n",
      "Classification Report is : \n",
      "               precision    recall  f1-score   support\n",
      "\n",
      "       Cheap       0.89      0.99      0.94      8929\n",
      "   Expensive       0.16      0.02      0.03       168\n",
      "      Medium       0.11      0.01      0.01       902\n",
      "\n",
      "    accuracy                           0.89      9999\n",
      "   macro avg       0.39      0.34      0.33      9999\n",
      "weighted avg       0.81      0.89      0.84      9999\n",
      "\n",
      "Precision value is  : accuracy\n",
      "Recall value is  : 0.89\n",
      "F1 Score value is  : 9999\n",
      "=================================================\n",
      "for Model SVC\n",
      "Train Score is : 0.8955189312390447\n",
      "Test Score is : 0.8914891489148915\n",
      "Classification Report is : \n",
      "               precision    recall  f1-score   support\n",
      "\n",
      "       Cheap       0.89      1.00      0.94      8929\n",
      "   Expensive       0.00      0.00      0.00       168\n",
      "      Medium       0.14      0.00      0.01       902\n",
      "\n",
      "    accuracy                           0.89      9999\n",
      "   macro avg       0.35      0.33      0.32      9999\n",
      "weighted avg       0.81      0.89      0.84      9999\n",
      "\n",
      "Precision value is  : accuracy\n",
      "Recall value is  : 0.89\n",
      "F1 Score value is  : 9999\n",
      "=================================================\n",
      "for Model DecisionTreeClassifier\n",
      "Train Score is : 0.9515467661874859\n",
      "Test Score is : 0.9524952495249525\n",
      "Classification Report is : \n",
      "               precision    recall  f1-score   support\n",
      "\n",
      "       Cheap       0.97      0.98      0.98      8929\n",
      "   Expensive       0.86      0.59      0.70       168\n",
      "      Medium       0.76      0.75      0.76       902\n",
      "\n",
      "    accuracy                           0.95      9999\n",
      "   macro avg       0.86      0.77      0.81      9999\n",
      "weighted avg       0.95      0.95      0.95      9999\n",
      "\n",
      "Precision value is  : accuracy\n",
      "Recall value is  : 0.95\n",
      "F1 Score value is  : 9999\n",
      "=================================================\n"
     ]
    }
   ],
   "source": [
    "ModelsScore = {}\n",
    "for Model in Models : \n",
    "    print(f'for Model {str(Model).split(\"(\")[0]}')\n",
    "    Model.fit(x_train, y_train)\n",
    "    print(f'Train Score is : {Model.score(x_train, y_train)}')\n",
    "    print(f'Test Score is : {Model.score(x_test, y_test)}')\n",
    "    y_pred = Model.predict(x_test)\n",
    "    ClassificationReport = classification_report(y_test,y_pred)\n",
    "    print('Classification Report is : \\n', ClassificationReport )\n",
    "    print(f'Precision value is  : {ClassificationReport.split()[19]}')\n",
    "    print(f'Recall value is  : {ClassificationReport.split()[20]}')\n",
    "    print(f'F1 Score value is  : {ClassificationReport.split()[21]}')\n",
    "    ModelsScore[str(Model).split(\"(\")[0]] = [ClassificationReport.split()[19],\n",
    "                                             ClassificationReport.split()[20],ClassificationReport.split()[21]]\n",
    "    print('=================================================') "
   ]
  }
 ],
 "metadata": {
  "kernelspec": {
   "display_name": "Python 3 (ipykernel)",
   "language": "python",
   "name": "python3"
  },
  "language_info": {
   "codemirror_mode": {
    "name": "ipython",
    "version": 3
   },
   "file_extension": ".py",
   "mimetype": "text/x-python",
   "name": "python",
   "nbconvert_exporter": "python",
   "pygments_lexer": "ipython3",
   "version": "3.9.7"
  }
 },
 "nbformat": 4,
 "nbformat_minor": 5
}
